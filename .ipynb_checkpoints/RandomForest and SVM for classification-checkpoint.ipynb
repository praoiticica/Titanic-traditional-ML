{
 "cells": [
  {
   "cell_type": "markdown",
   "id": "7dee2229-2e78-4d82-8f28-a1f6e9f2cf71",
   "metadata": {
    "tags": []
   },
   "source": [
    "# Random forest and SVM classification applyed to Brest Cancer dataset."
   ]
  },
  {
   "cell_type": "code",
   "execution_count": 1,
   "id": "98d499ae-cc1d-456b-b517-4f417874a849",
   "metadata": {
    "tags": []
   },
   "outputs": [],
   "source": [
    "import numpy as np\n",
    "import cv2\n",
    "import pandas as pd\n",
    "from matplotlib import pyplot as plt\n",
    "import seaborn as sns"
   ]
  },
  {
   "cell_type": "markdown",
   "id": "13614484-a63b-4cd1-96e2-67ed0d04bf1d",
   "metadata": {
    "tags": []
   },
   "source": [
    "# Dataset description\n",
    "\n",
    "data.frame':    569 obs. of  31 variables:\n",
    "* diagnosis              : Factor w/ 2 levels \"Benign\",\"Malignant\": 2 2 2 2 2 2 2 2 2 2 ...\n",
    "* radius_mean            : num  18 20.6 19.7 11.4 20.3 ...\n",
    "* texture_mean           : num  10.4 17.8 21.2 20.4 14.3 ...\n",
    "* perimeter_mean         : num  122.8 132.9 130 77.6 135.1 ...\n",
    "* area_mean              : num  1001 1326 1203 386 1297 ...\n",
    "* smoothness_mean        : num  0.1184 0.0847 0.1096 0.1425 0.1003 ...\n",
    "* compactness_mean       : num  0.2776 0.0786 0.1599 0.2839 0.1328 ...\n",
    "* concavity_mean         : num  0.3001 0.0869 0.1974 0.2414 0.198 ...\n",
    "* concave.points_mean    : num  0.1471 0.0702 0.1279 0.1052 0.1043 ...\n",
    "* symmetry_mean          : num  0.242 0.181 0.207 0.26 0.181 ...\n",
    "* fractal_dimension_mean : num  0.0787 0.0567 0.06 0.0974 0.0588 ...\n",
    "* radius_se              : num  1.095 0.543 0.746 0.496 0.757 ...\n",
    "* texture_se             : num  0.905 0.734 0.787 1.156 0.781 ...\n",
    "* perimeter_se           : num  8.59 3.4 4.58 3.44 5.44 ...\n",
    "* area_se                : num  153.4 74.1 94 27.2 94.4 ...\n",
    "* smoothness_se          : num  0.0064 0.00522 0.00615 0.00911 0.01149 ...\n",
    "* compactness_se         : num  0.049 0.0131 0.0401 0.0746 0.0246 ...\n",
    "* concavity_se           : num  0.0537 0.0186 0.0383 0.0566 0.0569 ...\n",
    "* concave.points_se      : num  0.0159 0.0134 0.0206 0.0187 0.0188 ...\n",
    "* symmetry_se            : num  0.03 0.0139 0.0225 0.0596 0.0176 ...\n",
    "* fractal_dimension_se   : num  0.00619 0.00353 0.00457 0.00921 0.00511 ...\n",
    "* radius_worst           : num  25.4 25 23.6 14.9 22.5 ...\n",
    "* texture_worst          : num  17.3 23.4 25.5 26.5 16.7 ...\n",
    "* perimeter_worst        : num  184.6 158.8 152.5 98.9 152.2 ...\n",
    "* area_worst             : num  2019 1956 1709 568 1575 ...\n",
    "* smoothness_worst       : num  0.162 0.124 0.144 0.21 0.137 ...\n",
    "* compactness_worst      : num  0.666 0.187 0.424 0.866 0.205 ...\n",
    "* concavity_worst        : num  0.712 0.242 0.45 0.687 0.4 ...\n",
    "* concave.points_worst   : num  0.265 0.186 0.243 0.258 0.163 ...\n",
    "* symmetry_worst         : num  0.46 0.275 0.361 0.664 0.236 ...\n",
    "* fractal_dimension_worst: num  0.1189 0.089 0.0876 0.173 0.0768 ...\n",
    "\n",
    "1) ID number\n",
    "2) Diagnosis (M = malignant, B = benign)\n",
    "3-32)\n",
    "\n",
    "Ten real-valued features are computed for each cell nucleus:\n",
    "\n",
    "\ta) radius (mean of distances from center to points on the perimeter)\n",
    "\tb) texture (standard deviation of gray-scale values)\n",
    "\tc) perimeter\n",
    "\td) area\n",
    "\te) smoothness (local variation in radius lengths)\n",
    "\tf) compactness (perimeter^2 / area - 1.0)\n",
    "\tg) concavity (severity of concave portions of the contour)\n",
    "\th) concave points (number of concave portions of the contour)\n",
    "\ti) symmetry \n",
    "\tj) fractal dimension (\"coastline approximation\" - 1)\n",
    "    \n",
    "    \n",
    "# Download\n",
    "\n",
    "Kagle\n",
    "\n",
    "https://www.kaggle.com/datasets/uciml/breast-cancer-wisconsin-data\n",
    "\n",
    "This database is also available through the UW CS ftp server:\n",
    "\n",
    "\n",
    "ftp ftp.cs.wisc.edu\n",
    "https://archive-beta.ics.uci.edu/dataset/17/breast+cancer+wisconsin+diagnostic\n",
    "cd math-prog/cpo-dataset/machine-learn/WDBC/\n",
    "\n",
    "Also can be found on UCI Machine Learning Repository: https://archive-beta.ics.uci.edu/dataset/17/breast+cancer+wisconsin+diagnostic"
   ]
  },
  {
   "cell_type": "code",
   "execution_count": 2,
   "id": "e5601960-8fd7-477a-a3f4-7606d0287fad",
   "metadata": {
    "tags": []
   },
   "outputs": [
    {
     "data": {
      "text/plain": [
       "Index(['id', 'diagnosis', 'radius_mean', 'texture_mean', 'perimeter_mean',\n",
       "       'area_mean', 'smoothness_mean', 'compactness_mean', 'concavity_mean',\n",
       "       'concave points_mean', 'symmetry_mean', 'fractal_dimension_mean',\n",
       "       'radius_se', 'texture_se', 'perimeter_se', 'area_se', 'smoothness_se',\n",
       "       'compactness_se', 'concavity_se', 'concave points_se', 'symmetry_se',\n",
       "       'fractal_dimension_se', 'radius_worst', 'texture_worst',\n",
       "       'perimeter_worst', 'area_worst', 'smoothness_worst',\n",
       "       'compactness_worst', 'concavity_worst', 'concave points_worst',\n",
       "       'symmetry_worst', 'fractal_dimension_worst', 'Unnamed: 32'],\n",
       "      dtype='object')"
      ]
     },
     "execution_count": 2,
     "metadata": {},
     "output_type": "execute_result"
    }
   ],
   "source": [
    "# Read the CSV file into a DataFrame\n",
    "file_path = \"BrestCancerWisconsin_diagnose.csv\"\n",
    "df = pd.read_csv(file_path)\n",
    "\n",
    "# Display the first few rows\n",
    "df.columns"
   ]
  },
  {
   "cell_type": "markdown",
   "id": "a55dcfb9-f35c-4483-8997-8f242ceccd2a",
   "metadata": {
    "tags": []
   },
   "source": [
    "# Explore the dataset"
   ]
  },
  {
   "cell_type": "code",
   "execution_count": 3,
   "id": "bcf81954-c221-4dba-906a-f6ea7db50a11",
   "metadata": {
    "tags": []
   },
   "outputs": [
    {
     "data": {
      "text/plain": [
       "Index(['label', 'radius_mean', 'texture_mean', 'perimeter_mean', 'area_mean',\n",
       "       'smoothness_mean', 'compactness_mean', 'concavity_mean',\n",
       "       'concave points_mean', 'symmetry_mean', 'fractal_dimension_mean',\n",
       "       'radius_se', 'texture_se', 'perimeter_se', 'area_se', 'smoothness_se',\n",
       "       'compactness_se', 'concavity_se', 'concave points_se', 'symmetry_se',\n",
       "       'fractal_dimension_se', 'radius_worst', 'texture_worst',\n",
       "       'perimeter_worst', 'area_worst', 'smoothness_worst',\n",
       "       'compactness_worst', 'concavity_worst', 'concave points_worst',\n",
       "       'symmetry_worst', 'fractal_dimension_worst'],\n",
       "      dtype='object')"
      ]
     },
     "execution_count": 3,
     "metadata": {},
     "output_type": "execute_result"
    }
   ],
   "source": [
    "# df.head()\n",
    "# # print(df.describe().T)  # see that the values need to be normalized before fitting.\n",
    "\n",
    "# df.isnull().sum() # See there is a column 'Unnamed with NaN values'\n",
    "df = df.dropna(axis=1) # It will drop the \"unnamed\" column \n",
    "df = df.drop(columns = 'id', axis = 1) # the Id columns dont have relevand info to the analyzis\n",
    "df = df.rename(columns={'diagnosis':'label'}) #Rename Dataset to Label to make it easy to understand\n",
    "# df['Label'].value_counts()\n",
    "# print(df.dtypes)\n",
    "\n",
    "# exploratory plots to understand the data \n",
    "# sns.countplot(x=\"Label\", data=df) #M - malignant   B - benign See the diagnose results dataset is not balanced\n",
    "# sns.distplot(df['radius_mean'], kde=False)\n",
    "\n",
    "df.columns"
   ]
  },
  {
   "cell_type": "markdown",
   "id": "fd4fac9a-844d-4898-8ed2-81b0b5efcc89",
   "metadata": {},
   "source": [
    "In the belf plot of the correlation matrix we can explore individual variables correlations. We see that the most apparent correlations occurs between the variables and its variances and corresponding worst values."
   ]
  },
  {
   "cell_type": "code",
   "execution_count": 191,
   "id": "c0775e25-283d-4c36-ad91-6e3c09e9a1ff",
   "metadata": {
    "tags": []
   },
   "outputs": [],
   "source": [
    "# Check the correlation between the variables of the dataset\n",
    "\n",
    "# print(df.corr())\n",
    "# corrMatrix = df.corr()\n",
    "# fig, ax = plt.subplots(figsize=(10,10))         # Sample figsize in inches\n",
    "# #sns.heatmap(df.iloc[:, 1:6:], annot=True, linewidths=.5, ax=ax)\n",
    "# sns.heatmap(corrMatrix, annot=False, linewidths=.5, ax=ax)\n",
    "\n"
   ]
  },
  {
   "cell_type": "code",
   "execution_count": 192,
   "id": "2168f0c6-c36b-4424-8b89-411760ffdb1d",
   "metadata": {
    "tags": []
   },
   "outputs": [
    {
     "data": {
      "text/plain": [
       "<seaborn.axisgrid.FacetGrid at 0x23b1d2d8950>"
      ]
     },
     "execution_count": 192,
     "metadata": {},
     "output_type": "execute_result"
    },
    {
     "data": {
      "image/png": "[encoded data removed]",
      "text/plain": [
       "<Figure size 562x500 with 1 Axes>"
      ]
     },
     "metadata": {},
     "output_type": "display_data"
    }
   ],
   "source": [
    "sns.lmplot(y='radius_mean', x='smoothness_mean', hue='label', \n",
    "           data=df, \n",
    "           fit_reg=False, scatter_kws={'alpha':1})"
   ]
  },
  {
   "cell_type": "markdown",
   "id": "7422da6b-06da-435a-959d-c993cabd767c",
   "metadata": {
    "tags": []
   },
   "source": [
    "# Set the data to be appropriate input to the ML models"
   ]
  },
  {
   "cell_type": "code",
   "execution_count": 193,
   "id": "9b73ccb3-071d-400a-8839-190f07876136",
   "metadata": {
    "tags": []
   },
   "outputs": [],
   "source": [
    "# Replace categorical values with numbers\n",
    "df['label'] = df['label'].replace(to_replace = {\"B\": 1, \"M\": 2})\n",
    "\n",
    "# Define the dependent variable that needs to be predicted (labels)\n",
    "Y = df[\"label\"].values\n",
    "\n",
    "# Define the independent variables. Let's also drop Gender, so we can normalize other data\n",
    "X = df.drop(columns = \"label\") \n",
    "features_list = list(X.columns)  #List features so we can rank them later.\n",
    "\n",
    "#from sklearn.preprocessing import normalize\n",
    "#X = normalize(X, axis=1)\n",
    "\n",
    "from sklearn.preprocessing import MinMaxScaler\n",
    "scaler = MinMaxScaler()\n",
    "scaler.fit(X)\n",
    "X = scaler.transform(X)\n",
    "\n",
    "#Split data into train and test to verify accuracy after fitting the model. \n",
    "from sklearn.model_selection import train_test_split\n",
    "X_train, X_test, Y_train, Y_test = train_test_split(X, Y, test_size=0.2, random_state=42)"
   ]
  },
  {
   "cell_type": "markdown",
   "id": "391da3ed-a214-4fce-8565-19446032ee85",
   "metadata": {},
   "source": [
    "-----------------"
   ]
  },
  {
   "cell_type": "markdown",
   "id": "62ec0521-db52-4806-b952-4a86f9ebd393",
   "metadata": {
    "tags": []
   },
   "source": [
    "# Apply the Random Forest Classification ML model"
   ]
  },
  {
   "cell_type": "code",
   "execution_count": 194,
   "id": "fd70581c-d2b6-4add-acaf-fc90a89620bd",
   "metadata": {
    "tags": []
   },
   "outputs": [
    {
     "data": {
      "text/plain": [
       "['random_forest_model.joblib']"
      ]
     },
     "execution_count": 194,
     "metadata": {},
     "output_type": "execute_result"
    }
   ],
   "source": [
    "# CREATE A RANDOM FOREST CLASSIFIER\n",
    "from sklearn.ensemble import RandomForestClassifier\n",
    "model = RandomForestClassifier(n_estimators = 25, random_state = 42)\n",
    "\n",
    "# Train the model on training data\n",
    "model.fit(X_train, Y_train)\n",
    "\n",
    "# Save the trained model\n",
    "import joblib\n",
    "joblib.dump(model, 'random_forest_model.joblib')\n",
    "# # To load the model\n",
    "# loaded_model = joblib.load('random_forest_model.joblib')\n"
   ]
  },
  {
   "cell_type": "markdown",
   "id": "ec40796a-51d6-44ee-b44b-5ceca98c0ac8",
   "metadata": {},
   "source": [
    "# test the model"
   ]
  },
  {
   "cell_type": "code",
   "execution_count": 195,
   "id": "c8799607-cd16-4eb4-9028-289762c49935",
   "metadata": {
    "tags": []
   },
   "outputs": [
    {
     "name": "stdout",
     "output_type": "stream",
     "text": [
      "Accuracy =  0.9649122807017544\n",
      "[[70  1]\n",
      " [ 3 40]]\n",
      "Benign =  0.958904109589041\n",
      "Malignant =  0.975609756097561\n",
      "concave points_mean        0.137749\n",
      "concave points_worst       0.123847\n",
      "area_worst                 0.094985\n",
      "concavity_mean             0.081073\n",
      "radius_mean                0.076021\n",
      "perimeter_worst            0.060806\n",
      "area_mean                  0.055302\n",
      "area_se                    0.053925\n",
      "radius_worst               0.051305\n",
      "perimeter_mean             0.047643\n",
      "radius_se                  0.030653\n",
      "compactness_worst          0.029402\n",
      "compactness_mean           0.019820\n",
      "texture_worst              0.019709\n",
      "concavity_worst            0.017442\n",
      "texture_mean               0.017214\n",
      "perimeter_se               0.009818\n",
      "concavity_se               0.009114\n",
      "symmetry_worst             0.006919\n",
      "smoothness_mean            0.006810\n",
      "fractal_dimension_se       0.006416\n",
      "concave points_se          0.006123\n",
      "texture_se                 0.005771\n",
      "symmetry_se                0.005530\n",
      "fractal_dimension_worst    0.005041\n",
      "symmetry_mean              0.004750\n",
      "smoothness_worst           0.004325\n",
      "fractal_dimension_mean     0.004289\n",
      "smoothness_se              0.004227\n",
      "compactness_se             0.003972\n",
      "dtype: float64\n"
     ]
    }
   ],
   "source": [
    "prediction = model.predict(X_test)\n",
    "\n",
    "from sklearn import metrics\n",
    "print (\"Accuracy = \", metrics.accuracy_score(Y_test, prediction))\n",
    "\n",
    "#Confusion Matrix\n",
    "from sklearn.metrics import confusion_matrix\n",
    "cm = confusion_matrix(Y_test, prediction)\n",
    "print(cm)\n",
    "\n",
    "# Print individual accuracy values for each class, based on the confusion matrix\n",
    "print(\"Benign = \", cm[0,0] / (cm[0,0]+cm[1,0]))\n",
    "print(\"Malignant = \",   cm[1,1] / (cm[0,1]+cm[1,1]))\n",
    "\n",
    "\n",
    "# Importances = list(model_RF.feature_importances_)\n",
    "feature_imp = pd.Series(model.feature_importances_, index=features_list).sort_values(ascending=False)\n",
    "print(feature_imp)"
   ]
  },
  {
   "cell_type": "markdown",
   "id": "9a61a01c-bb89-4c05-9618-a705c55e97e8",
   "metadata": {},
   "source": [
    "# Optimize the n of estimators"
   ]
  },
  {
   "cell_type": "code",
   "execution_count": 196,
   "id": "b58a9863-aa8d-46f2-aebe-b33cbf8b3760",
   "metadata": {
    "tags": []
   },
   "outputs": [
    {
     "name": "stdout",
     "output_type": "stream",
     "text": [
      "Best number of estimators: 39\n",
      "Best accuracy score: 0.9701897018970189\n"
     ]
    }
   ],
   "source": [
    "from sklearn.model_selection import GridSearchCV\n",
    "\n",
    "# Create a Random Forest classifier\n",
    "model = RandomForestClassifier(random_state=42)\n",
    "\n",
    "# Define the parameter grid for grid search\n",
    "param_grid = {\n",
    "    'n_estimators': range(20,40) # Specify the range of values to try\n",
    "}\n",
    "\n",
    "# Perform grid search using cross-validation\n",
    "grid_search = GridSearchCV(model, param_grid, cv=7, scoring='accuracy')\n",
    "grid_search.fit(X, Y)\n",
    "\n",
    "# Print the best parameter and best score\n",
    "print(\"Best number of estimators:\", grid_search.best_params_['n_estimators'])\n",
    "print(\"Best accuracy score:\", grid_search.best_score_)"
   ]
  },
  {
   "cell_type": "markdown",
   "id": "814b0974-2d67-470b-a2f6-95f482dffa24",
   "metadata": {},
   "source": [
    "# Estimate the mean and std of the accuracy, precision, ..."
   ]
  },
  {
   "cell_type": "code",
   "execution_count": 197,
   "id": "0993baf3-e582-4d2c-b183-00e9b24ac2a9",
   "metadata": {
    "tags": []
   },
   "outputs": [
    {
     "name": "stdout",
     "output_type": "stream",
     "text": [
      "Accuracy Scores: [0.97560976 0.91463415 0.97530864 0.97530864 0.96296296 0.95061728\n",
      " 1.        ]\n",
      "Precision Scores: [1.         0.90740741 0.96226415 0.98039216 0.94444444 0.96078431\n",
      " 1.        ]\n",
      "Accuracy - Score max min : 1.0 0.9146341463414634\n",
      "Precision - Score max min : 1.0 0.9074074074074074\n",
      "Mean Accuracy: 0.9649202047576031\n",
      "Mean Precision: 0.9650417819119262\n",
      "Standard Deviation of Accuracy: 0.02477841747464777\n",
      "Standard Deviation of Precision: 0.030358808416644536\n"
     ]
    }
   ],
   "source": [
    "from sklearn.model_selection import cross_val_score\n",
    "from sklearn.metrics import precision_score, make_scorer\n",
    "\n",
    "# Create a Random Forest classifier\n",
    "model = RandomForestClassifier(n_estimators=25, random_state=42)\n",
    "\n",
    "# Perform cross-validation for accuracy\n",
    "accuracy_scores = cross_val_score(model, X, Y, cv=7, scoring='accuracy') # Specify the number of folds (e.g., 5-fold)\n",
    "\n",
    "# Perform cross-validation for precision\n",
    "precision_scores = cross_val_score(model, X, Y, cv=7, scoring=make_scorer(precision_score))\n",
    "\n",
    "# Print the cross-validation scores\n",
    "print(\"Accuracy Scores:\", accuracy_scores)\n",
    "print(\"Precision Scores:\", precision_scores)\n",
    "print(\"Accuracy - Score max min :\", accuracy_scores.max(), accuracy_scores.min() )\n",
    "print(\"Precision - Score max min :\", precision_scores.max(), precision_scores.min() )\n",
    "print(\"Mean Accuracy:\", accuracy_scores.mean())\n",
    "print(\"Mean Precision:\", precision_scores.mean())\n",
    "print(\"Standard Deviation of Accuracy:\", accuracy_scores.std())\n",
    "print(\"Standard Deviation of Precision:\", precision_scores.std())"
   ]
  },
  {
   "cell_type": "markdown",
   "id": "ccd233be-b0e6-4209-988d-a51a2b1cd958",
   "metadata": {
    "tags": []
   },
   "source": [
    "-----------------"
   ]
  },
  {
   "cell_type": "markdown",
   "id": "f2ec611e-92d2-469a-a531-da12e4353d4d",
   "metadata": {
    "tags": []
   },
   "source": [
    "# Apply SVM Classification ML model"
   ]
  },
  {
   "cell_type": "code",
   "execution_count": 203,
   "id": "81aaeef6-edc3-4f90-8848-5af2106bc19a",
   "metadata": {
    "tags": []
   },
   "outputs": [
    {
     "name": "stdout",
     "output_type": "stream",
     "text": [
      "Accuracy =  0.9824561403508771\n",
      "[[71  0]\n",
      " [ 2 41]]\n",
      "Benign =  0.9726027397260274\n",
      "Malignant =  1.0\n"
     ]
    }
   ],
   "source": [
    "#https://scikit-learn.org/stable/modules/generated/sklearn.svm.SVC.html?highlight=svc#sklearn.svm.SVC\n",
    "#https://scikit-learn.org/stable/modules/svm.html\n",
    "\n",
    "from sklearn.svm import SVC\n",
    "model = SVC(kernel='linear', C=4, gamma=1000, max_iter=10000)\n",
    "# from sklearn import svm\n",
    "# model = svm.LinearSVC(max_iter=10000)\n",
    "\n",
    "model.fit(X_train, Y_train)\n",
    "\n",
    "prediction = model.predict(X_test)\n",
    "\n",
    "from sklearn import metrics\n",
    "print (\"Accuracy = \", metrics.accuracy_score(Y_test, prediction))\n",
    "\n",
    "\n",
    "#Confusion Matrix\n",
    "from sklearn.metrics import confusion_matrix\n",
    "cm = confusion_matrix(Y_test, prediction)\n",
    "print(cm)\n",
    "\n",
    "#Print individual accuracy values for each class, based on the confusion matrix\n",
    "print(\"Benign = \", cm[0,0] / (cm[0,0]+cm[1,0]))\n",
    "print(\"Malignant = \",   cm[1,1] / (cm[0,1]+cm[1,1]))"
   ]
  },
  {
   "cell_type": "code",
   "execution_count": null,
   "id": "8bc27782-4df8-4260-a161-d14196be0a14",
   "metadata": {},
   "outputs": [],
   "source": []
  },
  {
   "cell_type": "markdown",
   "id": "c963b2b5-9c3b-4627-bd98-a5863aea6b81",
   "metadata": {
    "tags": []
   },
   "source": [
    "# Optimize the C"
   ]
  },
  {
   "cell_type": "code",
   "execution_count": 199,
   "id": "57bff48c-7431-4dd8-b32e-b6e83ab48ebe",
   "metadata": {
    "tags": []
   },
   "outputs": [
    {
     "name": "stdout",
     "output_type": "stream",
     "text": [
      "Best C value: 4\n",
      "Best accuracy score: 0.9806641717210823\n"
     ]
    }
   ],
   "source": [
    "from sklearn.model_selection import GridSearchCV\n",
    "\n",
    "# Create a SVC classifier\n",
    "model = SVC(kernel='linear', gamma=1000, max_iter=10000)\n",
    "\n",
    "# Define the parameter grid for grid search\n",
    "param_grid = {\n",
    "    'C': range(2,20) # Specify the range of values to try\n",
    "}\n",
    "\n",
    "# Perform grid search using cross-validation\n",
    "grid_search = GridSearchCV(model, param_grid, cv=7, scoring='accuracy')\n",
    "grid_search.fit(X, Y)\n",
    "\n",
    "# Print the best parameter and best score\n",
    "print(\"Best C value:\", grid_search.best_params_['C'])\n",
    "print(\"Best accuracy score:\", grid_search.best_score_)"
   ]
  },
  {
   "cell_type": "code",
   "execution_count": null,
   "id": "8a71d269-799c-482d-8072-0d527776131f",
   "metadata": {},
   "outputs": [],
   "source": []
  },
  {
   "cell_type": "markdown",
   "id": "b694afe6-f277-41f6-ab84-9fc57201ad70",
   "metadata": {},
   "source": [
    "# Estimate the mean and std of the accuracy, precision, ..."
   ]
  },
  {
   "cell_type": "code",
   "execution_count": 205,
   "id": "5b8922f6-1226-4452-8f65-9bb78d0c89ba",
   "metadata": {
    "tags": []
   },
   "outputs": [
    {
     "name": "stdout",
     "output_type": "stream",
     "text": [
      "Accuracy Scores: [1.         0.96341463 0.98765432 0.98765432 0.95061728 1.\n",
      " 0.97530864]\n",
      "Precision Scores: [1.         0.94444444 0.98076923 0.98076923 0.94339623 1.\n",
      " 0.98039216]\n",
      "Accuracy - Score max min : 1.0 0.9506172839506173\n",
      "Precision - Score max min : 1.0 0.9433962264150944\n",
      "Mean Accuracy: 0.9806641717210823\n",
      "Mean Precision: 0.975681612751535\n",
      "Standard Deviation of Accuracy: 0.01721509551067934\n",
      "Standard Deviation of Precision: 0.021629449869111864\n"
     ]
    }
   ],
   "source": [
    "from sklearn.model_selection import cross_val_score\n",
    "from sklearn.metrics import precision_score, make_scorer\n",
    "\n",
    "# Create a SVC classifier\n",
    "model = SVC(kernel='linear', C = 4,  gamma=1000, max_iter=10000)\n",
    "\n",
    "# Perform cross-validation for accuracy\n",
    "accuracy_scores = cross_val_score(model, X, Y, cv=7, scoring='accuracy') # Specify the number of folds (e.g., 5-fold)\n",
    "\n",
    "# Perform cross-validation for precision\n",
    "precision_scores = cross_val_score(model, X, Y, cv=7, scoring=make_scorer(precision_score))\n",
    "\n",
    "# Print the cross-validation scores\n",
    "print(\"Accuracy Scores:\", accuracy_scores)\n",
    "print(\"Precision Scores:\", precision_scores)\n",
    "print(\"Accuracy - Score max min :\", accuracy_scores.max(), accuracy_scores.min() )\n",
    "print(\"Precision - Score max min :\", precision_scores.max(), precision_scores.min() )\n",
    "print(\"Mean Accuracy:\", accuracy_scores.mean())\n",
    "print(\"Mean Precision:\", precision_scores.mean())\n",
    "print(\"Standard Deviation of Accuracy:\", accuracy_scores.std())\n",
    "print(\"Standard Deviation of Precision:\", precision_scores.std())"
   ]
  },
  {
   "cell_type": "code",
   "execution_count": null,
   "id": "9cbc32f5-2b7f-4414-920a-9945b23ebb60",
   "metadata": {},
   "outputs": [],
   "source": []
  }
 ],
 "metadata": {
  "kernelspec": {
   "display_name": "Python 3 (ipykernel)",
   "language": "python",
   "name": "python3"
  },
  "language_info": {
   "codemirror_mode": {
    "name": "ipython",
    "version": 3
   },
   "file_extension": ".py",
   "mimetype": "text/x-python",
   "name": "python",
   "nbconvert_exporter": "python",
   "pygments_lexer": "ipython3",
   "version": "3.11.0"
  }
 },
 "nbformat": 4,
 "nbformat_minor": 5
}
