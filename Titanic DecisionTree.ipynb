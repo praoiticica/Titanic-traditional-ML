{
 "cells": [
  {
   "cell_type": "markdown",
   "id": "71b66921-d605-45f2-bc8b-45779112d992",
   "metadata": {},
   "source": [
    "# Data classification - Titanic survival - Decision trees"
   ]
  },
  {
   "cell_type": "markdown",
   "id": "1adb4bc9-cfa7-4def-92f0-37634cac2ce7",
   "metadata": {},
   "source": [
    "Given their transparency and relatively low computational cost, Decision Trees are also very useful for exploring your data before applying other algorithms. They're helpful for checking the quality of engineered features and identifying the most relevant ones by visualizing the resulting tree.\n",
    "The main downsides of decision Trees are their tendency to over-fit, their inability to grasp relationships between features (It is the job of on-supervised mapping algorithms...), and the use of greedy learning algorithms (not guaranteed to find the global optimal model). Using them in a Random Forest helps mitigate some of this issues.\n",
    "\n",
    "\n",
    "The titanic dataset has two challenges first we need to perform a very hard cleaning and some features needs to be engineered. The methods used in the feature engineering will influences the final predictions with any ML algorithm. The more we dive into the titanic dataset to clean it more we fine interesting information hidden in the dirty not structured table columns. the final objective is to built a model, train it with the train_data and try to predict the passengers that survived and the one that unfortunately not survived to the sinking.\n",
    "\n",
    "\n",
    "Here I perform the cleaning of the columns and perform feature engineering to prepare the variables to the be inputs to a decision tree model and also engineered new features from information hidden in the columns \"Name\", \"Ticket\" and others. We employed a decision tree to estimate the missing values of the engineered feature \"Age_group\" and finally we used the clean dataset and the new features to train a decition tree to predict the Survived target variable. We optimized the hyperparameters of the tree using cross-validation pre-pruing (with GridSearchCV) and also post-pruning by plotting the cross-validate accuracy with the ccp_alpha values and visualizing the point where the tree starts to overfit. We obtained test accuracy values between 0.78 for the test_data and 0.83 for the train accuracy score. Decision trees are simple learners, it is not suitable to hard predicting jobs, but it helps a lot in visualization of the feature importance and the inter-relationships between then to predict a given target feature.\n"
   ]
  },
  {
   "cell_type": "code",
   "execution_count": 1,
   "id": "59e41a63-a7a5-4e8d-913b-f7e82498990b",
   "metadata": {},
   "outputs": [
    {
     "data": {
      "text/html": [
       "        <script type=\"text/javascript\">\n",
       "        window.PlotlyConfig = {MathJaxConfig: 'local'};\n",
       "        if (window.MathJax && window.MathJax.Hub && window.MathJax.Hub.Config) {window.MathJax.Hub.Config({SVG: {font: \"STIX-Web\"}});}\n",
       "        if (typeof require !== 'undefined') {\n",
       "        require.undef(\"plotly\");\n",
       "        requirejs.config({\n",
       "            paths: {\n",
       "                'plotly': ['https://cdn.plot.ly/plotly-2.20.0.min']\n",
       "            }\n",
       "        });\n",
       "        require(['plotly'], function(Plotly) {\n",
       "            window._Plotly = Plotly;\n",
       "        });\n",
       "        }\n",
       "        </script>\n",
       "        "
      ]
     },
     "metadata": {},
     "output_type": "display_data"
    }
   ],
   "source": [
    "# Imports needed for the script\n",
    "import numpy as np\n",
    "import pandas as pd\n",
    "import re\n",
    "\n",
    "import seaborn as sns\n",
    "from ipywidgets import interact\n",
    "import matplotlib.pyplot as plt\n",
    "from mpl_interactions import ioff, panhandler, zoom_factory\n",
    "# %matplotlib widget\n",
    "%matplotlib inline\n",
    "\n",
    "import plotly.offline as py\n",
    "py.init_notebook_mode(connected=True)\n",
    "import plotly.graph_objs as go\n",
    "import plotly.tools as tls\n",
    "import plotly.express as px\n",
    "\n",
    "from sklearn import tree\n",
    "from sklearn.metrics import accuracy_score\n",
    "from sklearn.model_selection import KFold\n",
    "from sklearn.model_selection import cross_val_score\n",
    "\n",
    "# import xgboost as xgb\n",
    "\n"
   ]
  },
  {
   "cell_type": "markdown",
   "id": "edaf5245-c7d7-4227-a42b-300dff9d1272",
   "metadata": {},
   "source": [
    "# Load and explore the data"
   ]
  },
  {
   "cell_type": "code",
   "execution_count": 2,
   "id": "6227e9b9-8cfd-4162-b4ec-89a123767460",
   "metadata": {},
   "outputs": [
    {
     "data": {
      "text/html": [
       "<div>\n",
       "<style scoped>\n",
       "    .dataframe tbody tr th:only-of-type {\n",
       "        vertical-align: middle;\n",
       "    }\n",
       "\n",
       "    .dataframe tbody tr th {\n",
       "        vertical-align: top;\n",
       "    }\n",
       "\n",
       "    .dataframe thead th {\n",
       "        text-align: right;\n",
       "    }\n",
       "</style>\n",
       "<table border=\"1\" class=\"dataframe\">\n",
       "  <thead>\n",
       "    <tr style=\"text-align: right;\">\n",
       "      <th></th>\n",
       "      <th>PassengerId</th>\n",
       "      <th>Survived</th>\n",
       "      <th>Pclass</th>\n",
       "      <th>Name</th>\n",
       "      <th>Sex</th>\n",
       "      <th>Age</th>\n",
       "      <th>SibSp</th>\n",
       "      <th>Parch</th>\n",
       "      <th>Ticket</th>\n",
       "      <th>Fare</th>\n",
       "      <th>Cabin</th>\n",
       "      <th>Embarked</th>\n",
       "    </tr>\n",
       "  </thead>\n",
       "  <tbody>\n",
       "    <tr>\n",
       "      <th>0</th>\n",
       "      <td>1</td>\n",
       "      <td>0.0</td>\n",
       "      <td>3</td>\n",
       "      <td>Braund, Mr. Owen Harris</td>\n",
       "      <td>male</td>\n",
       "      <td>22.0</td>\n",
       "      <td>1</td>\n",
       "      <td>0</td>\n",
       "      <td>A/5 21171</td>\n",
       "      <td>7.2500</td>\n",
       "      <td>NaN</td>\n",
       "      <td>S</td>\n",
       "    </tr>\n",
       "    <tr>\n",
       "      <th>1</th>\n",
       "      <td>2</td>\n",
       "      <td>1.0</td>\n",
       "      <td>1</td>\n",
       "      <td>Cumings, Mrs. John Bradley (Florence Briggs Th...</td>\n",
       "      <td>female</td>\n",
       "      <td>38.0</td>\n",
       "      <td>1</td>\n",
       "      <td>0</td>\n",
       "      <td>PC 17599</td>\n",
       "      <td>71.2833</td>\n",
       "      <td>C85</td>\n",
       "      <td>C</td>\n",
       "    </tr>\n",
       "    <tr>\n",
       "      <th>2</th>\n",
       "      <td>3</td>\n",
       "      <td>1.0</td>\n",
       "      <td>3</td>\n",
       "      <td>Heikkinen, Miss. Laina</td>\n",
       "      <td>female</td>\n",
       "      <td>26.0</td>\n",
       "      <td>0</td>\n",
       "      <td>0</td>\n",
       "      <td>STON/O2. 3101282</td>\n",
       "      <td>7.9250</td>\n",
       "      <td>NaN</td>\n",
       "      <td>S</td>\n",
       "    </tr>\n",
       "    <tr>\n",
       "      <th>3</th>\n",
       "      <td>4</td>\n",
       "      <td>1.0</td>\n",
       "      <td>1</td>\n",
       "      <td>Futrelle, Mrs. Jacques Heath (Lily May Peel)</td>\n",
       "      <td>female</td>\n",
       "      <td>35.0</td>\n",
       "      <td>1</td>\n",
       "      <td>0</td>\n",
       "      <td>113803</td>\n",
       "      <td>53.1000</td>\n",
       "      <td>C123</td>\n",
       "      <td>S</td>\n",
       "    </tr>\n",
       "    <tr>\n",
       "      <th>4</th>\n",
       "      <td>5</td>\n",
       "      <td>0.0</td>\n",
       "      <td>3</td>\n",
       "      <td>Allen, Mr. William Henry</td>\n",
       "      <td>male</td>\n",
       "      <td>35.0</td>\n",
       "      <td>0</td>\n",
       "      <td>0</td>\n",
       "      <td>373450</td>\n",
       "      <td>8.0500</td>\n",
       "      <td>NaN</td>\n",
       "      <td>S</td>\n",
       "    </tr>\n",
       "  </tbody>\n",
       "</table>\n",
       "</div>"
      ],
      "text/plain": [
       "   PassengerId  Survived  Pclass   \n",
       "0            1       0.0       3  \\\n",
       "1            2       1.0       1   \n",
       "2            3       1.0       3   \n",
       "3            4       1.0       1   \n",
       "4            5       0.0       3   \n",
       "\n",
       "                                                Name     Sex   Age  SibSp   \n",
       "0                            Braund, Mr. Owen Harris    male  22.0      1  \\\n",
       "1  Cumings, Mrs. John Bradley (Florence Briggs Th...  female  38.0      1   \n",
       "2                             Heikkinen, Miss. Laina  female  26.0      0   \n",
       "3       Futrelle, Mrs. Jacques Heath (Lily May Peel)  female  35.0      1   \n",
       "4                           Allen, Mr. William Henry    male  35.0      0   \n",
       "\n",
       "   Parch            Ticket     Fare Cabin Embarked  \n",
       "0      0         A/5 21171   7.2500   NaN        S  \n",
       "1      0          PC 17599  71.2833   C85        C  \n",
       "2      0  STON/O2. 3101282   7.9250   NaN        S  \n",
       "3      0            113803  53.1000  C123        S  \n",
       "4      0            373450   8.0500   NaN        S  "
      ]
     },
     "execution_count": 2,
     "metadata": {},
     "output_type": "execute_result"
    }
   ],
   "source": [
    "# Load the data\n",
    "train = pd.read_csv('titanic_datasets/train.csv')\n",
    "test = pd.read_csv('titanic_datasets/test.csv')\n",
    "# concatenate train and test in same dataframe to perform data cleaning and feature engineering n both parts.\n",
    "df = pd.concat([train, test], ignore_index = True, sort = False)\n",
    "train_idx = df['Survived'].notnull()\n",
    "df.head()"
   ]
  },
  {
   "cell_type": "markdown",
   "id": "faa7adba-83d1-4ef2-9963-2dd59f3ad9cb",
   "metadata": {},
   "source": [
    "## Exploratory data analysis\n",
    "\n",
    "* Check the missing values and data types\n",
    "* Make Barplots for some variables couting the survived and non survived.\n",
    "* Make Heatmap correlation plots to see the inter-relationships between the variables and between the Survived and the other variables."
   ]
  },
  {
   "cell_type": "code",
   "execution_count": 3,
   "id": "25be064b-4acc-403f-9b8e-8cb08599c99b",
   "metadata": {},
   "outputs": [
    {
     "name": "stdout",
     "output_type": "stream",
     "text": [
      "<class 'pandas.core.frame.DataFrame'>\n",
      "RangeIndex: 1309 entries, 0 to 1308\n",
      "Data columns (total 12 columns):\n",
      " #   Column       Non-Null Count  Dtype  \n",
      "---  ------       --------------  -----  \n",
      " 0   PassengerId  1309 non-null   int64  \n",
      " 1   Survived     891 non-null    float64\n",
      " 2   Pclass       1309 non-null   int64  \n",
      " 3   Name         1309 non-null   object \n",
      " 4   Sex          1309 non-null   object \n",
      " 5   Age          1046 non-null   float64\n",
      " 6   SibSp        1309 non-null   int64  \n",
      " 7   Parch        1309 non-null   int64  \n",
      " 8   Ticket       1309 non-null   object \n",
      " 9   Fare         1308 non-null   float64\n",
      " 10  Cabin        295 non-null    object \n",
      " 11  Embarked     1307 non-null   object \n",
      "dtypes: float64(3), int64(4), object(5)\n",
      "memory usage: 122.8+ KB\n",
      "Cabin          1014\n",
      "Survived        418\n",
      "Age             263\n",
      "Embarked          2\n",
      "Fare              1\n",
      "PassengerId       0\n",
      "Pclass            0\n",
      "Name              0\n",
      "Sex               0\n",
      "SibSp             0\n",
      "Parch             0\n",
      "Ticket            0\n",
      "dtype: int64\n"
     ]
    }
   ],
   "source": [
    "# Customized summary\n",
    "nan_counts = df.isna().sum().sort_values(ascending = False)\n",
    "summary = pd.concat([df.info(), nan_counts], axis=0)\n",
    "print(summary)"
   ]
  },
  {
   "cell_type": "markdown",
   "id": "aa06f8fb-1797-487f-bd75-5f1e02e443a6",
   "metadata": {},
   "source": [
    "# Cleaning and feature engineering the dataset\n",
    "\n",
    "The titanic dataset contains missing values, incomplete columns. Some rows contains more than one information per column as we can see in the column Cabin that containg more than one cabin per person. The column \"Name\" contains name and title. The variable \"Ticket\" contains the number and a prefix code. Some passangers has the same Ticket code. The columns SibSp (Siblings and Spouses) and the column Parch, gives information about the number of family members aboard and the family structure but siblings info is mixed with spouses info, in the same way the variable \"Parch\" mix info about childs and parents. The Name (without the title) and the Embarked city may not contribute to the prediction. the PassengerId will be keeped to compose the submission prediction table for Kaggle.\n",
    "\n",
    "The more criretious aproach is to perform cleaning and engineer some fearures before apply rules to the fill the NaN values. We can create the feature \"Title\" by extracting from the column \"Name\" the titles: Mr. Miss. Mrs. Dr. and others.(see also [Sina \"Tinatic best working classifier\"](https://www.kaggle.com/code/sinakhorami/titanic-best-working-classifier)). This idea can be employed also to extract information of the Ticket preffix. Maybe this preffix tells something about the status of the passenger. The Cabin information can be very informative as the distance from the The boat deck where the lifeboats were located may influence the change of survival. But this column is not structured and has mostly missing values. To solve this we can try to split this column into three columns: **['Cabine_label', 'Cabine_number', 'N_of_Cabins reserved']**. Is is not easy to find a criteria to fill missing values (NaN) and maybe the work is to much hard but at the end this varible can be discarted by the model due to inefficienty in predicting the survival propability. The variale Age will be cathegorized into ranges and we will employ a simple decision tree with the other variables to help in filling the missin data about the Age. It is impossible to predict the exact Age of the passenger but we can try to predict the Age_group. The good aspect of the decision trees is that in principle we dont have to worry about the feature importance because the algorithm will rank it for us and we can visualize the learned and acquire information about the feature importances.\n",
    "\n",
    "In the nexts sections we will perform cleaning and feature engineering on the titanic dataset so we can apply more sofisticated exploratory data analysis and employ it to train and test a ML model.\n",
    "\n",
    "1. Map 'Sex' to 'Sex_bool'.\n",
    "2. Map 'Embarqued' to Embarqued_code{1,2,3}. reserve the zero for NaN.\n",
    "3. Split the variable 'Ticket' into 'Ticket_preffix', 'Ticket_n'.\n",
    "4. Group the duplicated Ticket values and count the number of people that travels together including friends, maids, nanys and create the variable 'Companions',\n",
    "5. Create the variable 'FamilySize' by combining the variables 'SibSp' and 'Parch'\n",
    "6. Extract the variable 'Title' from the variable 'Name' and cathegorize. \n",
    "4. Map 'Fare' to 'Fare_range': {0,1,2,3}.\n",
    "5. The most dirty variable 'Cabin' -> split it into ['Cabin_label', 'Cabin_n', 'n_of_Cabins'].\n",
    "6. Engineer the variable Age_group and predict the missing values using a ML decision tree model trained with the non-missing entries."
   ]
  },
  {
   "cell_type": "markdown",
   "id": "d91a153d-67ae-48d7-b79d-c41f043ee8ea",
   "metadata": {},
   "source": [
    "## Sex\n",
    "\n",
    "Encode the Variable 'Sex' to 'Sex_bool'"
   ]
  },
  {
   "cell_type": "code",
   "execution_count": 4,
   "id": "86aa9d8a-22c5-4115-8a1f-fb29c042e9cc",
   "metadata": {},
   "outputs": [],
   "source": [
    "# Mapping Sex bolean\n",
    "df['Sex_bool'] = df['Sex'].map( {'female': 0, 'male': 1} ).astype(int)"
   ]
  },
  {
   "cell_type": "markdown",
   "id": "7dcded03-63f6-4485-9622-c45561d5d4a0",
   "metadata": {},
   "source": [
    "## Embarked\n",
    "\n",
    "Clean the variable 'Embarked' fill  the NaN and encode  it to numerical values."
   ]
  },
  {
   "cell_type": "code",
   "execution_count": 5,
   "id": "67cd648f-3ad4-4098-b8f1-c8074316dcea",
   "metadata": {},
   "outputs": [
    {
     "data": {
      "text/html": [
       "<div>\n",
       "<style scoped>\n",
       "    .dataframe tbody tr th:only-of-type {\n",
       "        vertical-align: middle;\n",
       "    }\n",
       "\n",
       "    .dataframe tbody tr th {\n",
       "        vertical-align: top;\n",
       "    }\n",
       "\n",
       "    .dataframe thead th {\n",
       "        text-align: right;\n",
       "    }\n",
       "</style>\n",
       "<table border=\"1\" class=\"dataframe\">\n",
       "  <thead>\n",
       "    <tr style=\"text-align: right;\">\n",
       "      <th></th>\n",
       "      <th>PassengerId</th>\n",
       "      <th>Survived</th>\n",
       "      <th>Pclass</th>\n",
       "      <th>Name</th>\n",
       "      <th>Sex</th>\n",
       "      <th>Age</th>\n",
       "      <th>SibSp</th>\n",
       "      <th>Parch</th>\n",
       "      <th>Ticket</th>\n",
       "      <th>Fare</th>\n",
       "      <th>Cabin</th>\n",
       "      <th>Embarked</th>\n",
       "      <th>Sex_bool</th>\n",
       "    </tr>\n",
       "  </thead>\n",
       "  <tbody>\n",
       "    <tr>\n",
       "      <th>61</th>\n",
       "      <td>62</td>\n",
       "      <td>1.0</td>\n",
       "      <td>1</td>\n",
       "      <td>Icard, Miss. Amelie</td>\n",
       "      <td>female</td>\n",
       "      <td>38.0</td>\n",
       "      <td>0</td>\n",
       "      <td>0</td>\n",
       "      <td>113572</td>\n",
       "      <td>80.0</td>\n",
       "      <td>B28</td>\n",
       "      <td>NaN</td>\n",
       "      <td>0</td>\n",
       "    </tr>\n",
       "    <tr>\n",
       "      <th>829</th>\n",
       "      <td>830</td>\n",
       "      <td>1.0</td>\n",
       "      <td>1</td>\n",
       "      <td>Stone, Mrs. George Nelson (Martha Evelyn)</td>\n",
       "      <td>female</td>\n",
       "      <td>62.0</td>\n",
       "      <td>0</td>\n",
       "      <td>0</td>\n",
       "      <td>113572</td>\n",
       "      <td>80.0</td>\n",
       "      <td>B28</td>\n",
       "      <td>NaN</td>\n",
       "      <td>0</td>\n",
       "    </tr>\n",
       "  </tbody>\n",
       "</table>\n",
       "</div>"
      ],
      "text/plain": [
       "     PassengerId  Survived  Pclass                                       Name   \n",
       "61            62       1.0       1                        Icard, Miss. Amelie  \\\n",
       "829          830       1.0       1  Stone, Mrs. George Nelson (Martha Evelyn)   \n",
       "\n",
       "        Sex   Age  SibSp  Parch  Ticket  Fare Cabin Embarked  Sex_bool  \n",
       "61   female  38.0      0      0  113572  80.0   B28      NaN         0  \n",
       "829  female  62.0      0      0  113572  80.0   B28      NaN         0  "
      ]
     },
     "execution_count": 5,
     "metadata": {},
     "output_type": "execute_result"
    }
   ],
   "source": [
    "# Check the entries with NaN vales.\n",
    "df.loc[df['Embarked'].isna(),:]"
   ]
  },
  {
   "cell_type": "markdown",
   "id": "a28fc82b-6b78-4c83-95c5-0f70e641d7a9",
   "metadata": {},
   "source": [
    "We see both passangers share the variable values, Sex = female, Pclass = 1, they were in the same Cabin = B28, and the Ticket number is the same Ticket = 113572. Do you think it is a coincidence? I think Not!. If we try to see the number of passangers with this characteristics will guess the Embarked being either C or S. Alernativelly we can google seach for it and find that:\n",
    "Mrs Stone boarded the Titanic in **Southampton** on 10 April 1912 and was travelling in first class with her maid Amelie Icard. She occupied cabin B-28.([encyclopedia titanica](https://www.encyclopedia-titanica.org/titanic-survivor/martha-evelyn-stone.html))"
   ]
  },
  {
   "cell_type": "code",
   "execution_count": 6,
   "id": "84b67990-c0cb-49fa-829c-af2d369a6140",
   "metadata": {},
   "outputs": [
    {
     "data": {
      "text/plain": [
       "Embarked\n",
       "C      71\n",
       "S      69\n",
       "NaN     2\n",
       "Q       2\n",
       "Name: count, dtype: int64"
      ]
     },
     "execution_count": 6,
     "metadata": {},
     "output_type": "execute_result"
    }
   ],
   "source": [
    "# filter and count the most frequent values\n",
    "df.loc[(df['Sex'] == 'female') & (df['Pclass'] == 1), 'Embarked'].value_counts(dropna= False)"
   ]
  },
  {
   "cell_type": "code",
   "execution_count": 7,
   "id": "70bf37f7-a357-4455-80b3-95eb95157123",
   "metadata": {},
   "outputs": [],
   "source": [
    "# Fill the NaN and map Embarked to numerical codes\n",
    "df.loc[df['Embarked'].isna(), 'Embarked'] = 'S'  # (Encyclopedia titanica)\n",
    "df['Embarked_code'] = df['Embarked'].map( {'S': 1, 'C': 2, 'Q': 3} ).astype(int)"
   ]
  },
  {
   "cell_type": "markdown",
   "id": "3016ce67-3993-4cc2-a688-22bba948d6f9",
   "metadata": {},
   "source": [
    "## Ticket\n",
    "\n",
    "Split the 'Ticket' into the 'Ticket_preffix' and 'Ticket_number'"
   ]
  },
  {
   "cell_type": "code",
   "execution_count": 8,
   "id": "e7657b22-99c9-42a4-b8c5-b4f50e413888",
   "metadata": {},
   "outputs": [
    {
     "data": {
      "text/plain": [
       "array(['A/5', 'PC', 'STON/O2.', 'blanck', 'PP', 'A/5.', 'C.A.', 'A./5.',\n",
       "       'SC/Paris', 'S.C./A.4.', 'A/4.', 'CA', 'S.P.', 'S.O.C.', 'SO/C',\n",
       "       'W./C.', 'SOTON/OQ', 'W.E.P.', 'A4.', 'C', 'SOTON/O.Q.',\n",
       "       'SC/PARIS', 'S.O.P.', 'A.5.', 'Fa', 'CA.', 'F.C.C.', 'W/C',\n",
       "       'SW/PP', 'SCO/W', 'P/PP', 'SC', 'SC/AH', 'A/S', 'SC/AHBasle',\n",
       "       'A/4', 'WE/P', 'S.W./PP', 'S.O./P.P.', 'F.C.', 'SOTON/O2',\n",
       "       'S.C./PARIS', 'C.A./SOTON', 'SC/A.3', 'STON/OQ.', 'SC/A4', 'AQ/4',\n",
       "       'A.2.', 'LP', 'AQ/3.'], dtype=object)"
      ]
     },
     "execution_count": 8,
     "metadata": {},
     "output_type": "execute_result"
    }
   ],
   "source": [
    "# split the column 'Ticket'\n",
    "Ticket_split = []\n",
    "Ticket_len = []\n",
    "for i in df['Ticket'].index:\n",
    "    splitted = df.loc[i,'Ticket'].split(' ')\n",
    "    Ticket_split.append(splitted)\n",
    "    length = len(splitted)\n",
    "    Ticket_len.append(length)\n",
    "    \n",
    "df['Ticket_split'] = Ticket_split\n",
    "df['Ticket_len'] = Ticket_len\n",
    "\n",
    "# df[['Ticket_len']].value_counts()\n",
    "# df.loc[df['Ticket_len'] > 2, :] We can see tome typo errors.\n",
    "\n",
    "# Create columns Ticket_preffix and Ticket_number\n",
    "ticket_preffix = []\n",
    "ticket_number = []\n",
    "for i in df['Ticket'].index:\n",
    "    ticket_parts = df.loc[i, 'Ticket_split']\n",
    "    number = ticket_parts[-1]\n",
    "    ticket_number.append(number)\n",
    "    length = df.loc[i, 'Ticket_len'].item()\n",
    "    if length > 1:\n",
    "        preffix = ''.join(ticket_parts[0:-1])\n",
    "        ticket_preffix.append(preffix)\n",
    "    else:\n",
    "        ticket_preffix.append('blanck')\n",
    "        \n",
    "df['Ticket_preffix'] = ticket_preffix\n",
    "df['Ticket_number'] = ticket_number\n",
    "# drop unnecessary columns created\n",
    "df.drop(columns=['Ticket_split', 'Ticket_len'], inplace=True)\n",
    "\n",
    "df.Ticket_preffix.unique()"
   ]
  },
  {
   "cell_type": "code",
   "execution_count": 9,
   "id": "ccbc28e0-c68c-4c37-9e68-def77ddbe6bf",
   "metadata": {
    "scrolled": true
   },
   "outputs": [
    {
     "name": "stdout",
     "output_type": "stream",
     "text": [
      "                         Survived  Non-Survived\n",
      "Ticket_preffix Embarked                        \n",
      "A./5.          S              0.0           2.0\n",
      "A.2.           S              0.0           0.0\n",
      "A.5.           S              0.0           2.0\n",
      "A/4            S              0.0           3.0\n",
      "A/4.           S              0.0           3.0\n",
      "A/5            S              1.0           9.0\n",
      "A/5.           Q              0.0           1.0\n",
      "               S              1.0           5.0\n",
      "A/S            S              0.0           1.0\n",
      "A4.            S              0.0           1.0\n",
      "AQ/3.          Q              0.0           0.0\n",
      "AQ/4           Q              0.0           0.0\n",
      "C              S              2.0           3.0\n",
      "C.A.           C              0.0           0.0\n",
      "               S             13.0          14.0\n",
      "C.A./SOTON     S              0.0           1.0\n",
      "CA             S              0.0           6.0\n",
      "CA.            S              1.0           7.0\n",
      "F.C.           C              0.0           0.0\n",
      "               S              0.0           1.0\n",
      "F.C.C.         S              4.0           1.0\n",
      "Fa             S              0.0           1.0\n",
      "LP             S              0.0           0.0\n",
      "P/PP           C              1.0           1.0\n",
      "PC             C             29.0          17.0\n",
      "               S             10.0           4.0\n",
      "PP             S              2.0           1.0\n",
      "S.C./A.4.      S              0.0           1.0\n",
      "S.C./PARIS     C              1.0           1.0\n",
      "S.O./P.P.      S              0.0           3.0\n",
      "S.O.C.         S              0.0           5.0\n",
      "S.O.P.         S              0.0           1.0\n",
      "S.P.           S              0.0           1.0\n",
      "S.W./PP        S              1.0           0.0\n",
      "SC             C              1.0           0.0\n",
      "               S              0.0           0.0\n",
      "SC/A.3         C              0.0           0.0\n",
      "SC/A4          S              0.0           0.0\n",
      "SC/AH          S              1.0           1.0\n",
      "SC/AHBasle     C              1.0           0.0\n",
      "SC/PARIS       C              2.0           3.0\n",
      "               S              0.0           0.0\n",
      "SC/Paris       C              2.0           2.0\n",
      "SCO/W          S              0.0           1.0\n",
      "SO/C           S              1.0           0.0\n",
      "SOTON/O.Q.     S              1.0           7.0\n",
      "SOTON/O2       S              0.0           2.0\n",
      "SOTON/OQ       S              1.0           6.0\n",
      "STON/O2.       S              8.0          10.0\n",
      "STON/OQ.       S              0.0           0.0\n",
      "SW/PP          S              1.0           0.0\n",
      "W./C.          S              1.0           8.0\n",
      "W.E.P.         S              0.0           1.0\n",
      "W/C            S              0.0           1.0\n",
      "WE/P           S              1.0           1.0\n",
      "blanck         C             56.0          51.0\n",
      "               Q             30.0          46.0\n",
      "               S            169.0         313.0\n"
     ]
    }
   ],
   "source": [
    "df_grouped = df.groupby(['Ticket_preffix', 'Embarked']).agg({'Survived': ['sum', lambda x: x.count() - x.sum()]})\n",
    "df_grouped.columns = ['Survived', 'Non-Survived']\n",
    "# df_grouped['Count'] = df.groupby(['Title', 'Sex']).size()\n",
    "print(df_grouped)"
   ]
  },
  {
   "cell_type": "markdown",
   "id": "209f6906-3428-43e7-b9c8-4a0dddcac0d2",
   "metadata": {},
   "source": [
    "The column Tiket_preffix has some typo erros and seems to be related to the 'Embarked' info. Most of valuas are Blank and maybe it wont worth to analyse the survival probability.\n",
    "\n",
    "Moreove, we already observed that the Ticket_number has some duplicated entries. Some passangers share the ticket number because they are together. They can have a relarionship of employee or servicing like a maid or a nany, or  they can be close friends. These relationships were not all captured in the variables SibSp and Parch. See, for example, the case of Mrs Stone boarded that was travelling with her maid Amelie Icard and both survived ([encyclopedia titanica](https://www.encyclopedia-titanica.org/titanic-survivor/martha-evelyn-stone.html)).\n",
    "\n",
    "In the following line we start to do some Feature engineering. We not just clean the variable but we are extracting inplicit information and creating a nem varible to describe it. Let us add this information to the column 'Companions' describing the number of companions or fellow passengers for each individual. Maybe this number make some impact on the survival probabylity. "
   ]
  },
  {
   "cell_type": "code",
   "execution_count": 10,
   "id": "a9401cec-9788-49ff-8476-a8d664b654d5",
   "metadata": {},
   "outputs": [
    {
     "data": {
      "text/plain": [
       "Ticket_number\n",
       "0    705\n",
       "1    604\n",
       "Name: count, dtype: int64"
      ]
     },
     "execution_count": 10,
     "metadata": {},
     "output_type": "execute_result"
    }
   ],
   "source": [
    "df['Ticket_number'].duplicated(keep=False).astype(int).value_counts()\n",
    "# (df.groupby('Ticket')['Ticket'].transform('count') - 1)"
   ]
  },
  {
   "cell_type": "code",
   "execution_count": 11,
   "id": "64e11891-dd96-4728-aea7-2cce21f95d03",
   "metadata": {},
   "outputs": [
    {
     "data": {
      "text/plain": [
       "Companions\n",
       "0     713\n",
       "1     264\n",
       "2     147\n",
       "3      64\n",
       "4      35\n",
       "6      35\n",
       "5      24\n",
       "7      16\n",
       "10     11\n",
       "Name: count, dtype: int64"
      ]
     },
     "execution_count": 11,
     "metadata": {},
     "output_type": "execute_result"
    }
   ],
   "source": [
    "df['Companions'] = df['Ticket'].duplicated(keep=False).astype(int) * df.groupby('Ticket')['Ticket'].transform('count') -1 \n",
    "df.loc[df['Companions'] == -1, 'Companions'] = 0\n",
    "df['Companions'].value_counts()"
   ]
  },
  {
   "cell_type": "markdown",
   "id": "5d4b92d0-db6e-4605-bc8b-19166715103b",
   "metadata": {},
   "source": [
    "## Famyly size as a sum of SibSp and Parch\n",
    "\n",
    "This is a feature engineering step as we are creating a new feature by combining two existing ones. The variables SibSp and Parch describe the family structure aboard for each passenger. However, the specific level of parental relationships may not be important; only the total number of family members may matter. In this case, these variables are redundant.\n"
   ]
  },
  {
   "cell_type": "code",
   "execution_count": 12,
   "id": "87ebf95d-9863-4a4f-a1a6-838897622b20",
   "metadata": {},
   "outputs": [
    {
     "name": "stdout",
     "output_type": "stream",
     "text": [
      "   FamilySize     SibSp     Parch  Survived\n",
      "7           7  4.000000  3.000000  0.000000\n",
      "8          10  6.727273  3.272727  0.000000\n",
      "5           5  2.800000  2.200000  0.136364\n",
      "4           4  2.000000  2.000000  0.200000\n",
      "0           0  0.000000  0.000000  0.303538\n",
      "6           6  3.250000  2.750000  0.333333\n",
      "1           1  0.778723  0.221277  0.552795\n",
      "2           2  0.893082  1.106918  0.578431\n",
      "3           3  1.302326  1.697674  0.724138\n"
     ]
    }
   ],
   "source": [
    "df['FamilySize'] = df['SibSp'] + df['Parch']\n",
    "print(df[['SibSp','Parch','FamilySize', 'Survived']].groupby(['FamilySize'], as_index=False).mean().sort_values(by = 'Survived'))"
   ]
  },
  {
   "cell_type": "markdown",
   "id": "3a4c7ea6-58af-4f2e-8c84-2192069e0829",
   "metadata": {},
   "source": [
    "## Vaviable 'Name' and corresponding 'Title'\n",
    "\n",
    "Now we will extrat the 'Title' information from the variable 'Name'. We can create the feature \"Title\" by extracting from the column \"Name\" the titles: Mr. Miss. Mrs. Dr. and others.(see also [Sina \"Tinatic best working classifier\"](https://www.kaggle.com/code/sinakhorami/titanic-best-working-classifier)). "
   ]
  },
  {
   "cell_type": "code",
   "execution_count": 13,
   "id": "467a5781-57dc-46fd-94ca-360a987627ab",
   "metadata": {},
   "outputs": [
    {
     "name": "stdout",
     "output_type": "stream",
     "text": [
      "                 Survived  Non-Survived  Count\n",
      "Title    Sex                                  \n",
      "Capt     male         0.0           1.0      1\n",
      "Col      male         1.0           1.0      4\n",
      "Countess female       1.0           0.0      1\n",
      "Don      male         0.0           1.0      1\n",
      "Dona     female       0.0           0.0      1\n",
      "Dr       female       1.0           0.0      1\n",
      "         male         2.0           4.0      7\n",
      "Jonkheer male         0.0           1.0      1\n",
      "Lady     female       1.0           0.0      1\n",
      "Major    male         1.0           1.0      2\n",
      "Master   male        23.0          17.0     61\n",
      "Miss     female     127.0          55.0    260\n",
      "Mlle     female       2.0           0.0      2\n",
      "Mme      female       1.0           0.0      1\n",
      "Mr       male        81.0         436.0    757\n",
      "Mrs      female      99.0          26.0    197\n",
      "Ms       female       1.0           0.0      2\n",
      "Rev      male         0.0           6.0      8\n",
      "Sir      male         1.0           0.0      1\n"
     ]
    }
   ],
   "source": [
    "# get the 'Title'\n",
    "def get_title(name):\n",
    "\ttitle_search = re.search(' ([A-Za-z]+)\\.', name)\n",
    "\t# If the title exists, extract and return it.\n",
    "\tif title_search:\n",
    "\t\treturn title_search.group(1)\n",
    "\treturn \"\"\n",
    "\n",
    "df['Title'] = df['Name'].apply(get_title)\n",
    "\n",
    "df_grouped = df.groupby(['Title', 'Sex']).agg({'Survived': ['sum', lambda x: x.count() - x.sum()]})\n",
    "df_grouped.columns = ['Survived', 'Non-Survived']\n",
    "df_grouped['Count'] = df.groupby(['Title', 'Sex']).size()\n",
    "print(df_grouped)"
   ]
  },
  {
   "cell_type": "markdown",
   "id": "94138de9-7289-4da0-84aa-ddc7627530ac",
   "metadata": {},
   "source": [
    "We now clean and cathegorize the Titie variable then check the title impact on survival rate."
   ]
  },
  {
   "cell_type": "code",
   "execution_count": 14,
   "id": "938d55e2-6e87-43bb-b008-ca7b57fcf782",
   "metadata": {},
   "outputs": [
    {
     "name": "stdout",
     "output_type": "stream",
     "text": [
      "               Survived  Non-Survived  Count  Survival Rate\n",
      "Title  Sex                                                 \n",
      "noble  female       3.0           0.0      4       1.000000\n",
      "Mrs    female     101.0          26.0    200       0.795276\n",
      "Miss   female     129.0          55.0    262       0.701087\n",
      "Master male        23.0          17.0     61       0.575000\n",
      "noble  male         5.0          15.0     25       0.250000\n",
      "Mr     male        81.0         436.0    757       0.156673\n"
     ]
    }
   ],
   "source": [
    "# Clean the varianle Title.\n",
    "df['Title'] = df['Title'].replace(['Lady', 'Countess','Capt', 'Col',\n",
    " \t'Don', 'Dr', 'Major', 'Rev', 'Sir', 'Jonkheer', 'Dona'], 'noble')\n",
    "df['Title'] = df['Title'].replace('Mlle', 'Miss')\n",
    "df['Title'] = df['Title'].replace('Ms', 'Mrs')\n",
    "df['Title'] = df['Title'].replace('Mme', 'Mrs')\n",
    "\n",
    "# Check the survival rate for the title cathegories obtained\n",
    "df_grouped = df.groupby(['Title', 'Sex']).agg({'Survived': ['sum', lambda x: x.count() - x.sum()]})\n",
    "df_grouped.columns = ['Survived', 'Non-Survived']\n",
    "df_grouped['Count'] = df.groupby(['Title', 'Sex']).size()\n",
    "# Calculate the survived/non-survived rate\n",
    "df_grouped['Survival Rate'] = df_grouped['Survived'] / (df_grouped['Survived'] + df_grouped['Non-Survived'])\n",
    "# Order the DataFrame by the survival rate in descending order\n",
    "df_grouped = df_grouped.sort_values('Survival Rate', ascending=False)\n",
    "\n",
    "print(df_grouped)"
   ]
  },
  {
   "cell_type": "markdown",
   "id": "33c852eb-6a1d-4186-8607-c9cd66fe35b8",
   "metadata": {},
   "source": [
    "We can see that be a noble make a very difference in the Titanic. The other titles reflect the sex and the age of the passanger. We can observe that the survival rate for man with title master is better than those with title Mr, althogh, it can be interpreted by the age whereas younger man has a better chance to survive. If we compare the survival rate of womens, the Miss. title survive less than Mrs. title. It can indicate the status of the woman as maried or not can make a difference. But we all agree that the information about the family and the age has its own features to descibe. The exclusive information we can obtain from title feature is, if the passager own noble title or not."
   ]
  },
  {
   "cell_type": "code",
   "execution_count": 15,
   "id": "0b8e791f-ea85-476c-8138-9a3e6cbff021",
   "metadata": {},
   "outputs": [
    {
     "data": {
      "text/plain": [
       "noble\n",
       "0    1280\n",
       "1      29\n",
       "Name: count, dtype: int64"
      ]
     },
     "execution_count": 15,
     "metadata": {},
     "output_type": "execute_result"
    }
   ],
   "source": [
    "df['noble'] = df['Title'].apply(lambda x: 1  if x =='noble'  else 0)\n",
    "df['noble'].value_counts()"
   ]
  },
  {
   "cell_type": "markdown",
   "id": "712b3fa5-6b72-48fe-80af-039ada910896",
   "metadata": {},
   "source": [
    "## Fare\n",
    "\n",
    "We can substitute the only one Fare missing value by the median value. Then we categorize it the 'Fare' variable into 4 group ranges."
   ]
  },
  {
   "cell_type": "code",
   "execution_count": 16,
   "id": "b05175ae-51a0-4e0e-94ff-bb8379e70f6e",
   "metadata": {},
   "outputs": [
    {
     "data": {
      "text/html": [
       "<div>\n",
       "<style scoped>\n",
       "    .dataframe tbody tr th:only-of-type {\n",
       "        vertical-align: middle;\n",
       "    }\n",
       "\n",
       "    .dataframe tbody tr th {\n",
       "        vertical-align: top;\n",
       "    }\n",
       "\n",
       "    .dataframe thead th {\n",
       "        text-align: right;\n",
       "    }\n",
       "</style>\n",
       "<table border=\"1\" class=\"dataframe\">\n",
       "  <thead>\n",
       "    <tr style=\"text-align: right;\">\n",
       "      <th></th>\n",
       "      <th>PassengerId</th>\n",
       "      <th>Survived</th>\n",
       "      <th>Pclass</th>\n",
       "      <th>Name</th>\n",
       "      <th>Sex</th>\n",
       "      <th>Age</th>\n",
       "      <th>SibSp</th>\n",
       "      <th>Parch</th>\n",
       "      <th>Ticket</th>\n",
       "      <th>Fare</th>\n",
       "      <th>Cabin</th>\n",
       "      <th>Embarked</th>\n",
       "      <th>Sex_bool</th>\n",
       "      <th>Embarked_code</th>\n",
       "      <th>Ticket_preffix</th>\n",
       "      <th>Ticket_number</th>\n",
       "      <th>Companions</th>\n",
       "      <th>FamilySize</th>\n",
       "      <th>Title</th>\n",
       "      <th>noble</th>\n",
       "    </tr>\n",
       "  </thead>\n",
       "  <tbody>\n",
       "    <tr>\n",
       "      <th>1043</th>\n",
       "      <td>1044</td>\n",
       "      <td>NaN</td>\n",
       "      <td>3</td>\n",
       "      <td>Storey, Mr. Thomas</td>\n",
       "      <td>male</td>\n",
       "      <td>60.5</td>\n",
       "      <td>0</td>\n",
       "      <td>0</td>\n",
       "      <td>3701</td>\n",
       "      <td>NaN</td>\n",
       "      <td>NaN</td>\n",
       "      <td>S</td>\n",
       "      <td>1</td>\n",
       "      <td>1</td>\n",
       "      <td>blanck</td>\n",
       "      <td>3701</td>\n",
       "      <td>0</td>\n",
       "      <td>0</td>\n",
       "      <td>Mr</td>\n",
       "      <td>0</td>\n",
       "    </tr>\n",
       "  </tbody>\n",
       "</table>\n",
       "</div>"
      ],
      "text/plain": [
       "      PassengerId  Survived  Pclass                Name   Sex   Age  SibSp   \n",
       "1043         1044       NaN       3  Storey, Mr. Thomas  male  60.5      0  \\\n",
       "\n",
       "      Parch Ticket  Fare Cabin Embarked  Sex_bool  Embarked_code   \n",
       "1043      0   3701   NaN   NaN        S         1              1  \\\n",
       "\n",
       "     Ticket_preffix Ticket_number  Companions  FamilySize Title  noble  \n",
       "1043         blanck          3701           0           0    Mr      0  "
      ]
     },
     "execution_count": 16,
     "metadata": {},
     "output_type": "execute_result"
    }
   ],
   "source": [
    "df.loc[df['Fare'].isna(),:]"
   ]
  },
  {
   "cell_type": "code",
   "execution_count": 17,
   "id": "a9402935-fb54-47ac-8b5d-d19d78fa3cd7",
   "metadata": {},
   "outputs": [
    {
     "name": "stdout",
     "output_type": "stream",
     "text": [
      "1043    7.8958\n",
      "Name: Fare, dtype: float64\n"
     ]
    }
   ],
   "source": [
    "# fill with  the median for the Pclass and Sex.\n",
    "df.loc[df['PassengerId'] == 1044, 'Fare'] = df.loc[(df['Pclass'] == 3) & (df['Sex'] == 'male'), 'Fare'].median()\n",
    "print(df.loc[df['PassengerId'] == 1044, 'Fare'])"
   ]
  },
  {
   "cell_type": "code",
   "execution_count": 18,
   "id": "b704a4c2-6d03-41eb-80f5-eb01d3a5d5f9",
   "metadata": {},
   "outputs": [
    {
     "name": "stdout",
     "output_type": "stream",
     "text": [
      "                 Survived\n",
      "Fare_range               \n",
      "(-0.001, 7.733]  0.155340\n",
      "(7.733, 7.896]   0.233333\n",
      "(7.896, 8.662]   0.200000\n",
      "(8.662, 13.0]    0.375000\n",
      "(13.0, 16.1]     0.363636\n",
      "(16.1, 26.0]     0.460784\n",
      "(26.0, 35.917]   0.445545\n",
      "(35.917, 73.5]   0.474227\n",
      "(73.5, 512.329]  0.762887\n"
     ]
    }
   ],
   "source": [
    "## Fare ranges\n",
    "df['Fare_range'] = pd.qcut(df['Fare'], 9)\n",
    "print (df[['Fare_range', 'Survived']].groupby(['Fare_range']).mean())"
   ]
  },
  {
   "cell_type": "code",
   "execution_count": 19,
   "id": "05ea86c0-ffcc-429e-94df-3d1470c3d1ec",
   "metadata": {},
   "outputs": [
    {
     "name": "stdout",
     "output_type": "stream",
     "text": [
      "                   Survived  Non-Survived  Survival Rate\n",
      "Fare_range Sex                                          \n",
      "8          female      60.0           2.0       0.967742\n",
      "7          female      30.0           6.0       0.833333\n",
      "0          female      10.0           3.0       0.769231\n",
      "3          female      34.0          12.0       0.739130\n",
      "5          female      38.0          16.0       0.703704\n",
      "1          female      20.0          10.0       0.666667\n",
      "6          female      20.0          13.0       0.606061\n",
      "4          female      17.0          12.0       0.586207\n",
      "8          male        14.0          21.0       0.400000\n",
      "6          male        25.0          43.0       0.367647\n",
      "2          female       4.0           7.0       0.363636\n",
      "7          male        16.0          45.0       0.262295\n",
      "4          male         7.0          30.0       0.189189\n",
      "5          male         9.0          39.0       0.187500\n",
      "2          male        13.0          61.0       0.175676\n",
      "3          male        11.0          63.0       0.148649\n",
      "1          male         8.0          82.0       0.088889\n",
      "0          male         6.0          84.0       0.066667\n"
     ]
    }
   ],
   "source": [
    "df['Fare_range'] = pd.qcut(df['Fare'], 9, labels=[0, 1, 2, 3, 4, 5 ,6 ,7, 8])\n",
    "\n",
    "# Check the survival rate for the fare categories obtained\n",
    "df_grouped = df.groupby(['Fare_range', 'Sex']).agg({'Survived': ['sum', lambda x: x.count() - x.sum()]})\n",
    "df_grouped.columns = ['Survived', 'Non-Survived']\n",
    "# Calculate the survival rate\n",
    "df_grouped['Survival Rate'] = df_grouped['Survived'] / (df_grouped['Survived'] + df_grouped['Non-Survived'])\n",
    "# Order the DataFrame by the survival rate in descending order\n",
    "df_grouped = df_grouped.sort_values('Survival Rate', ascending=False)\n",
    "\n",
    "print(df_grouped)\n"
   ]
  },
  {
   "cell_type": "markdown",
   "id": "aaec8d2c-b5f8-412e-9a59-8e7f80534b07",
   "metadata": {},
   "source": [
    "## Cabin\n",
    "\n",
    "This is the most dirty column, mostly values are missing and some rows contains more than one information about the Cabin: more than one cabine for some passangers. The Cabin information can be very informative as the distance from the The boat deck where the lifeboats were located may influence the change of survival. But this column is not structured and has mostly missing values. To solve this we can try to split this column into three columns: ['Cabine_label', 'Cabine_number', 'N_of_Cabins reserved'] and analyse this three colums together with the Fare value and the number of family members aboard in such a way that we can try to predict the missing values at least for the missing cabin_label. We could apply a simple rule and estimate the missing Cabin_label by mapping the variable Fare or we could use a a supervised simple algoritm like decision tree to perform multilassification of the Cabin_label based on the non-missing cabin_label rows as a train set. Is is not easy to fine a criteria to fill NaN values and the volume of known data is to small compared to unknown data. I think the work to fill or extimate an engineered feeature with this information is to much hard and at the end this varible could be discarted by the model due to inefficienty in predicting the survival propability."
   ]
  },
  {
   "cell_type": "code",
   "execution_count": 20,
   "id": "706da794-b65b-476e-aba3-927f0692844b",
   "metadata": {},
   "outputs": [],
   "source": [
    "# Get the label of the last reserved cabin if exists\n",
    "# get the last cabin if exists\n",
    "df['Last_cabin'] = df['Cabin'].apply(lambda x: str(x).split()[-1] if pd.notnull(x) else 'N')\n",
    "\n",
    "# get the Cabin_label of the last cabin\n",
    "pattern = r'([A-Za-z])'\n",
    "df['Cabin_label'] = df['Last_cabin'].apply(lambda x: re.search(pattern, str(x)).group(1) if x != 'N' else 'N')\n",
    "\n",
    "# Get the number of the last cabin if exists\n",
    "pattern = r'(\\d+)'\n",
    "df['Cabin_number'] = df['Last_cabin'].apply(lambda x: re.search(pattern, str(x)) if x != 'N' else -1)\n",
    "\n",
    "# Get the number of distinct cabins reserved by the passenger.\n",
    "df['Cabin_count'] = df['Cabin'].apply(lambda x: len(str(x).split()) if pd.notnull(x) else 0)\n"
   ]
  },
  {
   "cell_type": "code",
   "execution_count": 21,
   "id": "c858dab5-70b2-4009-ba73-58bba7394613",
   "metadata": {},
   "outputs": [],
   "source": [
    "# drop not used columns\n",
    "df.drop(columns = ['Last_cabin', 'Cabin_number'], inplace = True)"
   ]
  },
  {
   "cell_type": "markdown",
   "id": "6195c498-ac55-44e9-b2e4-2ba65cb7e013",
   "metadata": {},
   "source": [
    "## Mapping Age\n",
    "\n",
    "Age groups can be much more informative than the exact value. We still have the problem of Age missing values."
   ]
  },
  {
   "cell_type": "code",
   "execution_count": 22,
   "id": "0781c9f5-34b3-4f41-8047-707998c31e01",
   "metadata": {},
   "outputs": [
    {
     "name": "stdout",
     "output_type": "stream",
     "text": [
      "Counts:  Age_group\n",
      "1.0    625\n",
      "2.0    263\n",
      "NaN    263\n",
      "0.0     99\n",
      "3.0     59\n",
      "Name: count, dtype: int64\n"
     ]
    }
   ],
   "source": [
    "# Mapping Age\n",
    "df.loc[ df['Age'] <= 13, 'Age_group'] = 0 # kids\n",
    "df.loc[(df['Age'] > 13) & (df['Age'] <= 35), 'Age_group'] = 1 # young\n",
    "df.loc[(df['Age'] > 35) & (df['Age'] <= 55), 'Age_group'] = 2 # mature\n",
    "df.loc[(df['Age'] > 55) & (df['Age'] <= 120), 'Age_group'] = 3 # old\n",
    "\n",
    "print('Counts: ', df['Age_group'].value_counts(dropna=False))"
   ]
  },
  {
   "cell_type": "markdown",
   "id": "749dd878-7eb0-4884-acbc-f3a4fac0e6d5",
   "metadata": {},
   "source": [
    "We need to find a way to fill the missing Age_group values. Age must be related to the other variables and I think we can predict the age_group using the variables 'Pclass', 'Title', 'Fare', 'SibSp'and 'Parch' and the other variables can give a little help maybe. It is obvious for example that a passanger with a title = Master. is a young boy. Let us try to predidict the Age_group using a decision tree multiclass.\n",
    "\n",
    "sinse the variable 'Tite' dont has a an inherent order it is better to apply one-hot encoding to this variable before inputting in the model."
   ]
  },
  {
   "cell_type": "code",
   "execution_count": 23,
   "id": "554d9938-bcb5-4d19-a252-1cb37a1bd33f",
   "metadata": {},
   "outputs": [],
   "source": [
    "features = ['Pclass', 'SibSp', 'Parch','FamilySize', 'Fare', 'Sex_bool','Embarked_code', 'Companions', 'Cabin_count', 'Age_group', 'Title']"
   ]
  },
  {
   "cell_type": "markdown",
   "id": "d1e52b78-62b6-40e2-b1ce-70a5ac752a8a",
   "metadata": {},
   "source": [
    "The variable 'Title ' is very important in preficting the Age_group although it is a factor with more than 4 values and we can not attribute an order to each label. In thie case we have to use one-hot encoding to this variable to make it suitable to the training in the ML model."
   ]
  },
  {
   "cell_type": "code",
   "execution_count": 24,
   "id": "35244efc-bc3e-4452-8c18-24127f1030c0",
   "metadata": {},
   "outputs": [
    {
     "data": {
      "text/html": [
       "<div>\n",
       "<style scoped>\n",
       "    .dataframe tbody tr th:only-of-type {\n",
       "        vertical-align: middle;\n",
       "    }\n",
       "\n",
       "    .dataframe tbody tr th {\n",
       "        vertical-align: top;\n",
       "    }\n",
       "\n",
       "    .dataframe thead th {\n",
       "        text-align: right;\n",
       "    }\n",
       "</style>\n",
       "<table border=\"1\" class=\"dataframe\">\n",
       "  <thead>\n",
       "    <tr style=\"text-align: right;\">\n",
       "      <th></th>\n",
       "      <th>Title_Master</th>\n",
       "      <th>Title_Miss</th>\n",
       "      <th>Title_Mr</th>\n",
       "      <th>Title_Mrs</th>\n",
       "      <th>Title_noble</th>\n",
       "    </tr>\n",
       "  </thead>\n",
       "  <tbody>\n",
       "    <tr>\n",
       "      <th>0</th>\n",
       "      <td>False</td>\n",
       "      <td>False</td>\n",
       "      <td>True</td>\n",
       "      <td>False</td>\n",
       "      <td>False</td>\n",
       "    </tr>\n",
       "    <tr>\n",
       "      <th>1</th>\n",
       "      <td>False</td>\n",
       "      <td>False</td>\n",
       "      <td>False</td>\n",
       "      <td>True</td>\n",
       "      <td>False</td>\n",
       "    </tr>\n",
       "    <tr>\n",
       "      <th>2</th>\n",
       "      <td>False</td>\n",
       "      <td>True</td>\n",
       "      <td>False</td>\n",
       "      <td>False</td>\n",
       "      <td>False</td>\n",
       "    </tr>\n",
       "    <tr>\n",
       "      <th>3</th>\n",
       "      <td>False</td>\n",
       "      <td>False</td>\n",
       "      <td>False</td>\n",
       "      <td>True</td>\n",
       "      <td>False</td>\n",
       "    </tr>\n",
       "    <tr>\n",
       "      <th>4</th>\n",
       "      <td>False</td>\n",
       "      <td>False</td>\n",
       "      <td>True</td>\n",
       "      <td>False</td>\n",
       "      <td>False</td>\n",
       "    </tr>\n",
       "  </tbody>\n",
       "</table>\n",
       "</div>"
      ],
      "text/plain": [
       "   Title_Master  Title_Miss  Title_Mr  Title_Mrs  Title_noble\n",
       "0         False       False      True      False        False\n",
       "1         False       False     False       True        False\n",
       "2         False        True     False      False        False\n",
       "3         False       False     False       True        False\n",
       "4         False       False      True      False        False"
      ]
     },
     "execution_count": 24,
     "metadata": {},
     "output_type": "execute_result"
    }
   ],
   "source": [
    "encoded = pd.get_dummies(df['Title'], prefix='Title')\n",
    "df = pd.concat([df, encoded], axis=1)\n",
    "encoded.head()"
   ]
  },
  {
   "cell_type": "code",
   "execution_count": 25,
   "id": "8efa724d-a7e4-4da1-822d-c9e44ab22bbf",
   "metadata": {},
   "outputs": [
    {
     "name": "stdout",
     "output_type": "stream",
     "text": [
      "X_train.shape (732, 13)\n",
      "Counts:  Age_group\n",
      "1.0    447\n",
      "2.0    173\n",
      "0.0     67\n",
      "3.0     45\n",
      "Name: count, dtype: int64\n"
     ]
    }
   ],
   "source": [
    "# Load the data for training and validation the rows where Age is not NaN.\n",
    "features = ['Pclass', 'SibSp', 'Parch','FamilySize', 'Fare_range', 'Sex_bool', 'Companions', 'Cabin_count',\n",
    "            'Title_Master', 'Title_Miss', 'Title_Mr', 'Title_Mrs', 'Title_noble']\n",
    "X = df.loc[~df['Age'].isna(), features] \n",
    "Y = df.loc[~df['Age'].isna(), 'Age_group'] # the target variable we want o train for is Age_group\n",
    "\n",
    "# Let us split the training set into train and valiication\n",
    "from sklearn.model_selection import train_test_split\n",
    "X_train, X_val, Y_train, Y_val = train_test_split(X, Y, test_size=0.3, random_state=22)\n",
    "\n",
    "print('X_train.shape', X_train.shape)\n",
    "print('Counts: ', Y_train.value_counts(dropna = False))"
   ]
  },
  {
   "cell_type": "code",
   "execution_count": 26,
   "id": "7bf17d54-ccd2-4f87-b5f9-982aa1a0ca12",
   "metadata": {},
   "outputs": [
    {
     "name": "stdout",
     "output_type": "stream",
     "text": [
      "train_Accuracy: 0.7295081967213115\n",
      "val_Accuracy: 0.6910828025477707\n"
     ]
    }
   ],
   "source": [
    "#  Build a Decision Tree, to predict the Age_group.\n",
    "from sklearn import tree\n",
    "tree_age = tree.DecisionTreeClassifier(max_depth= 5,\n",
    "                                       min_samples_leaf =10,\n",
    "                                       min_samples_split = 10,\n",
    "                                       ccp_alpha = 0.005\n",
    "                                      )\n",
    "tree_age.fit(X_train, Y_train)\n",
    "Y_pred = tree_age.predict(X_val)\n",
    "\n",
    "# Calculate the train and Validation accuracy of the model.\n",
    "train_acc = tree_age.score(X_train, Y_train)\n",
    "from sklearn.metrics import accuracy_score\n",
    "val_acc = accuracy_score(Y_val, Y_pred)\n",
    "print(\"train_Accuracy:\", train_acc)\n",
    "print(\"val_Accuracy:\", val_acc)\n"
   ]
  },
  {
   "cell_type": "code",
   "execution_count": 27,
   "id": "abb506eb-1f0b-4e17-89f3-191e6996b3f1",
   "metadata": {},
   "outputs": [
    {
     "data": {
      "image/png": "[encoded data removed]",
      "text/plain": [
       "<Figure size 640x480 with 2 Axes>"
      ]
     },
     "metadata": {},
     "output_type": "display_data"
    }
   ],
   "source": [
    "from sklearn.metrics import ConfusionMatrixDisplay\n",
    "labels = ['kid', 'young', 'mature', 'old']\n",
    "# labels = tree_age.classes_\n",
    "ConfusionMatrixDisplay.from_predictions(Y_val, Y_pred, display_labels = labels, cmap = plt.cm.Blues)\n",
    "plt.show()"
   ]
  },
  {
   "cell_type": "markdown",
   "id": "3d3aa4d7-2e73-43a9-b84a-6ef100c6001d",
   "metadata": {},
   "source": [
    "Let us see how the tree predict the Age_groups in the plot of the decsion tree below."
   ]
  },
  {
   "cell_type": "code",
   "execution_count": 28,
   "id": "7b6d10e5-564e-4740-8e61-38941a072b92",
   "metadata": {},
   "outputs": [
    {
     "data": {
      "image/png": "[encoded data removed]",
      "text/plain": [
       "<Figure size 1000x600 with 1 Axes>"
      ]
     },
     "metadata": {},
     "output_type": "display_data"
    }
   ],
   "source": [
    "# Generate the decision tree plot\n",
    "fig, ax = plt.subplots(figsize=(10, 6))\n",
    "tree.plot_tree(tree_age, feature_names=features, class_names=['kid', 'young', 'mature', 'old'], filled=True, rounded=True, ax=ax)\n",
    "# Adjust the layout of subplots\n",
    "plt.tight_layout()\n",
    "# Display the plot\n",
    "# plt.show()\n",
    "\n",
    "# Save the figure with higher resolution\n",
    "plt.savefig('Tree_age.png', dpi=300)"
   ]
  },
  {
   "cell_type": "markdown",
   "id": "357e3f39-1dc4-4ba3-9b45-a3f850d30719",
   "metadata": {},
   "source": [
    "Use GridSearchCV process to make the hyperparameters tunning of the decision tree. We can try to optimize by pre-pruning with the parameters [max_depth, min_samples_leaf, min_samples_split], or we can tunne using post-pruning process with the cost complexity pruning this parameterccp_alpha."
   ]
  },
  {
   "cell_type": "code",
   "execution_count": 29,
   "id": "c9b503f9-0dfe-4a4d-bf27-536db513947b",
   "metadata": {},
   "outputs": [
    {
     "name": "stdout",
     "output_type": "stream",
     "text": [
      "Best Parameters: {'ccp_alpha': 0.004}\n",
      "Best Score: 0.7151739926739926\n"
     ]
    }
   ],
   "source": [
    "from sklearn.model_selection import GridSearchCV\n",
    "\n",
    "# Define the parameter grid\n",
    "param_grid = {\n",
    "    # 'max_depth': [ 6 , 7 , 8, 9],    \n",
    "    # 'min_samples_leaf': [6,7, 8, 9, 10],\n",
    "    # 'min_samples_split': [6, 7, 8, 9, 10, 11, 12],\n",
    "    'ccp_alpha': [0.0001, 0.004, 0.006, 0.007, 0.008, 0.009,  0.0010, 0.0012]\n",
    "}\n",
    "\n",
    "# Create the decision tree classifier\n",
    "model = tree.DecisionTreeClassifier()\n",
    "\n",
    "# Perform grid search\n",
    "grid_search = GridSearchCV(estimator=model, param_grid=param_grid, cv=10)\n",
    "grid_search.fit(X, Y)\n",
    "\n",
    "# Get the best parameters and best score\n",
    "best_params = grid_search.best_params_\n",
    "best_score = grid_search.best_score_\n",
    "print(\"Best Parameters:\", best_params)\n",
    "print(\"Best Score:\", best_score)"
   ]
  },
  {
   "cell_type": "markdown",
   "id": "98a0f100-40df-43b2-8193-c01c32c2a443",
   "metadata": {},
   "source": [
    "Finally we will use the trained and optimized decision tree to fill the missing Age_group values i our train and test dataset."
   ]
  },
  {
   "cell_type": "code",
   "execution_count": 30,
   "id": "254ea57a-1976-4ef1-b5fa-e17c540d42f0",
   "metadata": {},
   "outputs": [],
   "source": [
    "X_test = df.loc[df['Age_group'].isna(), features]\n",
    "Age_group_pred = tree_age.predict(X_test)\n",
    "\n",
    "# Fill the NaN values in Age_group\n",
    "df.loc[df['Age_group'].isna(), 'Age_group'] = Age_group_pred"
   ]
  },
  {
   "cell_type": "code",
   "execution_count": 31,
   "id": "22daa46d-5a14-4219-b40d-2ddcc9557ad9",
   "metadata": {},
   "outputs": [
    {
     "ename": "SyntaxError",
     "evalue": "invalid syntax (3383888871.py, line 1)",
     "output_type": "error",
     "traceback": [
      "\u001b[1;36m  Cell \u001b[1;32mIn[31], line 1\u001b[1;36m\u001b[0m\n\u001b[1;33m    I will finish here the dataset cleaning and feature engineering but I am sure that there is a plenty of information hidden in the variable 'Name', 'Cabin' and 'ticket', and someone with more patiance can dive into and explore.\u001b[0m\n\u001b[1;37m      ^\u001b[0m\n\u001b[1;31mSyntaxError\u001b[0m\u001b[1;31m:\u001b[0m invalid syntax\n"
     ]
    }
   ],
   "source": [
    "I will finish here the dataset cleaning and feature engineering but I am sure that there is a plenty of information hidden in the variable 'Name', 'Cabin' and 'ticket', and someone with more patiance can dive into and explore."
   ]
  },
  {
   "cell_type": "code",
   "execution_count": null,
   "id": "a5de2031-ce3a-4406-b290-eb1294ffeb63",
   "metadata": {},
   "outputs": [],
   "source": [
    "# Drop the columns that are incomplete and will not be used to further analysis\n",
    "df.drop(columns = ['Age', 'Title_Master', 'Title_Miss', 'Title_Mr', 'Title_Mrs','Ticket', 'Cabin','noble', 'Embarked'], inplace = True)\n",
    "print(df.columns)\n",
    "# Check the variables with NaN values.\n",
    "nan_counts = df.isna().sum().sort_values(ascending = False)\n",
    "print('NaN in Train_data:\\n', nan_counts)"
   ]
  },
  {
   "cell_type": "code",
   "execution_count": null,
   "id": "943219b5-42a6-4f95-ab93-9cc88fcf2ec5",
   "metadata": {},
   "outputs": [],
   "source": [
    "# Expor the .csv file\n",
    "df.to_csv('titanic_cleaned.csv', index = False)"
   ]
  },
  {
   "cell_type": "markdown",
   "id": "a31be740-da21-472a-a9c5-ae0df6efe962",
   "metadata": {},
   "source": [
    "# Exploratory analysis\n",
    "\n",
    "We can make some exploratory analysis with the original complete and the new engineered features."
   ]
  },
  {
   "cell_type": "code",
   "execution_count": null,
   "id": "2864cb1a-e2b0-41c9-a3ac-5420d3237404",
   "metadata": {},
   "outputs": [],
   "source": [
    "# df = pd.read_csv('titanic_datasets/titanic_cleaned.csv')\n",
    "# df.head()"
   ]
  },
  {
   "cell_type": "code",
   "execution_count": null,
   "id": "0d632a92-ebd3-4d3b-9e71-c7ccc9ddcd3a",
   "metadata": {},
   "outputs": [],
   "source": [
    "def plot_countplot(variable='Sex'):\n",
    "    # Calculate the counts\n",
    "    counts = df[variable].value_counts()\n",
    "    \n",
    "    # Calculate the probability of survival\n",
    "    survived = df[df['Survived'] == 1][variable].value_counts().sort_index()\n",
    "    not_survived = df[df['Survived'] == 0][variable].value_counts().sort_index()\n",
    "    survival_prob = survived / (survived + not_survived)\n",
    "\n",
    "    # Create subplots with shared x-axis\n",
    "    fig, ax1 = plt.subplots()   \n",
    "    \n",
    "    # Plot the survival probability using scatter plot markers and lines on the left y-axis\n",
    "    ax1.plot(survival_prob.index, survival_prob.values, marker='o', linestyle='-', color='red')\n",
    "    ax1.set_ylabel('Survival Probability', color='black')\n",
    "    ax1.tick_params(axis='y', labelcolor='red')    \n",
    "    \n",
    "    # Create a twin y-axis for the left side\n",
    "    ax2 = ax1.twinx()\n",
    "    \n",
    "    #Plot the count bars on the right y-axis\n",
    "    ax2.bar(counts.index, counts.values, alpha=0.4, width=0.2, color='royalblue')\n",
    "    ax2.set_ylabel('Counts', color='black')\n",
    "    ax2.tick_params(axis='y', labelcolor='blue')\n",
    "    \n",
    "    # Set the x-axis label and title\n",
    "    ax1.set_xlabel(variable)\n",
    "    plt.title('Count and Survival Probability')\n",
    "    \n",
    "    # Adjust the layout of subplots\n",
    "    plt.tight_layout()\n",
    "\n",
    "# Call the interact function\n",
    "interact(plot_countplot, variable=df.columns)\n"
   ]
  },
  {
   "cell_type": "markdown",
   "id": "a06ed0ce-c930-457b-8720-b5f9e4802d99",
   "metadata": {},
   "source": [
    "## What is the profile of the passengers that has no Cabin_label info, Cabin_label = N\n",
    "\n",
    "Analysing the distributions of the features in each cabin label It seems that the Cabin_label N can be any cabin because the profiles of the Cabin_label N are very close to the profile of all cabins mixed. The missing of the cabin info is not related to a given Pclass, Sex, Age_group. It is randomly distributed. That is why it is very hard to use this feature in a meaningfull way."
   ]
  },
  {
   "cell_type": "code",
   "execution_count": null,
   "id": "478d114a-a9d6-4bcc-a4cb-a07e20a38578",
   "metadata": {},
   "outputs": [],
   "source": [
    "# Filter the DataFrame for passengers with cabin label 'N'\n",
    "cabin_N_passengers = df[df['Cabin_label'] == 'N']\n",
    "# cabin_N_passengers = df\n",
    "\n",
    "fig, axes = plt.subplots(2, 4, figsize=(20, 8))\n",
    "\n",
    "# Plot the distribution of classes\n",
    "sns.countplot(x='Pclass', data=cabin_N_passengers, ax=axes[0,0], width=0.5)\n",
    "axes[0,0].set_title('Passenger Class Distribution for Cabin Label N')\n",
    "\n",
    "# Plot the distribution of sex\n",
    "sns.countplot(x='Sex', data=cabin_N_passengers, ax=axes[0,1], width=0.3)\n",
    "axes[0,1].set_title('Sex Distribution for Cabin Label N')\n",
    "\n",
    "# Plot the distribution of fare\n",
    "sns.countplot(x='Fare_range', data=cabin_N_passengers, ax=axes[0,2], width=0.5)\n",
    "axes[0,2].set_title('Fare Distribution for Cabin Label N')\n",
    "\n",
    "# Plot the distribution of fare\n",
    "sns.countplot(x='Age_group', data=cabin_N_passengers, ax=axes[0,3], width=0.5)\n",
    "axes[0,3].set_title('Age_group Distribution for Cabin Label N')\n",
    "\n",
    "# Plot the distribution of fare\n",
    "sns.countplot(x='Embarked_code', data=cabin_N_passengers, ax=axes[1,0], width=0.5)\n",
    "axes[1,0].set_title('Embarked_code Distribution for Cabin Label N')\n",
    "\n",
    "# Plot the distribution of fare\n",
    "sns.countplot(x='FamilySize', data=cabin_N_passengers, ax=axes[1,1], width=0.5)\n",
    "axes[1,1].set_title('Familysize Distribution for Cabin Label N')\n",
    "# Plot the distribution of fare\n",
    "sns.countplot(x='Companions', data=cabin_N_passengers, ax=axes[1,2], width=0.5)\n",
    "axes[1,2].set_title('Companions Distribution for Cabin Label N')\n",
    "\n",
    "# Plot the distribution of fare\n",
    "sns.countplot(x='Title', data=cabin_N_passengers, ax=axes[1,3], width=0.5)\n",
    "axes[1,3].set_title('Title Distribution for Cabin Label N')\n",
    "\n",
    "# Adjust the spacing between subplots\n",
    "plt.tight_layout()\n",
    "\n",
    "# Display the plots\n",
    "plt.show()"
   ]
  },
  {
   "cell_type": "code",
   "execution_count": null,
   "id": "22d67fbf-1989-417f-8672-031c0d293b14",
   "metadata": {},
   "outputs": [],
   "source": [
    "def plot_countplot(variable = 'Sex'):\n",
    "    sns.countplot(x=variable, hue='Survived', data=df)\n",
    "\n",
    "interact(plot_countplot, variable=df.columns)"
   ]
  },
  {
   "cell_type": "markdown",
   "id": "3eb12453-bf8c-474b-8a29-91006b0deb2e",
   "metadata": {},
   "source": [
    "## Correlations\n",
    "\n",
    "Let us Check the correlation between the variables of the dataset"
   ]
  },
  {
   "cell_type": "code",
   "execution_count": null,
   "id": "3e66e851-34af-42aa-ad6e-a0c0f301cd0a",
   "metadata": {},
   "outputs": [],
   "source": [
    "# print(train_data.corr())\n",
    "corrMatrix = df[train_idx].loc[:, ['Pclass', 'Sex_bool', 'Age_group', 'FamilySize', 'Survived', 'Fare']].corr()\n",
    "fig, ax = plt.subplots(figsize=(10,10))         # Sample figsize in inches\n",
    "sns.heatmap(corrMatrix, annot=True, linewidths=.5, ax=ax)"
   ]
  },
  {
   "cell_type": "markdown",
   "id": "bb63c2fa-71f5-44c8-b3c8-98f90859c4b2",
   "metadata": {},
   "source": [
    "# Survival classification with Decision Tree"
   ]
  },
  {
   "cell_type": "markdown",
   "id": "92abc5af-48ef-40aa-af77-746c0e8e351d",
   "metadata": {},
   "source": [
    "In the dataset we have a test part for which we don't know the 'Survived' value and we will ultimatelly test the model with the Test_data and submit the results to Kaggle and obtain the accuracy score. The part od the dataset where we know the 'Survived' value we will use to train and validate the model. "
   ]
  },
  {
   "cell_type": "code",
   "execution_count": null,
   "id": "bb55f2bd-57e8-43ff-8ba0-9da6e4656e89",
   "metadata": {},
   "outputs": [],
   "source": [
    "Test_data = df.loc[df['Survived'].isna()]\n",
    "Train_data = df.loc[~df['Survived'].isna()]"
   ]
  },
  {
   "cell_type": "code",
   "execution_count": null,
   "id": "031997ee-0958-4e4d-9c3b-1f8edc1d267f",
   "metadata": {},
   "outputs": [],
   "source": [
    "Train_data.columns"
   ]
  },
  {
   "cell_type": "code",
   "execution_count": null,
   "id": "9246cacb-e115-4755-8915-00873d8165e8",
   "metadata": {},
   "outputs": [],
   "source": [
    "# Load the data for training and validation\n",
    "features = ['Pclass','Sex_bool', 'SibSp', 'Parch',\n",
    "       'Companions', 'FamilySize', 'Fare_range',\n",
    "       'Cabin_count', 'Age_group', 'Title_noble']\n",
    "\n",
    "X = Train_data[features] # training dataset\n",
    "Y = Train_data['Survived']\n",
    "\n",
    "# Let us split the training set into train and valiication\n",
    "from sklearn.model_selection import train_test_split\n",
    "X_train, X_val, Y_train, Y_val = train_test_split(X, Y, test_size=0.30, random_state=42)\n",
    "\n",
    "#  Build a decision Tree, train and validate the model.\n",
    "from sklearn import tree\n",
    "modeltree1 = tree.DecisionTreeClassifier(criterion='gini',\n",
    "                                        max_depth= 5, # 5, 5, None,\n",
    "                                        min_samples_leaf = 2, # 5, None, \n",
    "                                        min_samples_split = 2, # 2, 5, 2\n",
    "                                        ccp_alpha = 0.00306  # 0, 0.002, 0.00307, \n",
    "\n",
    "                                        )\n",
    "modeltree1.fit(X, Y)\n",
    "Y_pred = modeltree1.predict(X_val)\n",
    "\n",
    "# Calculate the train and Validation accuracy metric.\n",
    "train_acc = modeltree1.score(X_train, Y_train)\n",
    "from sklearn.metrics import accuracy_score\n",
    "val_acc = accuracy_score(Y_val, Y_pred)\n",
    "print(\"train_Accuracy:\", train_acc)\n",
    "print(\"val_Accuracy:\", val_acc)"
   ]
  },
  {
   "cell_type": "code",
   "execution_count": null,
   "id": "5ae47fa0-438a-4607-9d3f-d301357c9f4a",
   "metadata": {},
   "outputs": [],
   "source": [
    "# Test dataset from Kaggle. In principle we dont know the true labels for this test dataset and the success of the trainig and validation procedures will be avaliated using this test set with accuracy score calculated with the Y_truth values that only kaggle has access, during the competicion.\n",
    "X_test = Test_data[features]\n",
    "Y_test = pd.read_csv('titanic_datasets/truth_submission.csv')['Survived'] # (see Kaggle)\n",
    "test_acc = modeltree1.score(X_test, Y_test)\n",
    "print('test_accuracy', test_acc)"
   ]
  },
  {
   "cell_type": "markdown",
   "id": "0a3353a5-6441-442d-afe1-1595c53fb690",
   "metadata": {},
   "source": [
    "## Visualization of the Decision tree"
   ]
  },
  {
   "cell_type": "code",
   "execution_count": null,
   "id": "cb1cb832-8a4e-4a1f-8dcc-653fe88dcf8a",
   "metadata": {},
   "outputs": [],
   "source": [
    "# Generate the decision tree plot\n",
    "fig, ax = plt.subplots(figsize=(12, 8))\n",
    "tree_plot = tree.plot_tree(modeltree1, feature_names=features, class_names=['Not Survived', 'Survived'], filled=True, rounded=True, ax=ax)\n",
    "# plt.show() # Comment it to make savefig() works.\n",
    "# Save the figure with higher resolution\n",
    "plt.savefig('titanic-Tree.png', dpi=300)"
   ]
  },
  {
   "cell_type": "markdown",
   "id": "a7010f5e-647f-46f3-be46-6453d8ade204",
   "metadata": {},
   "source": [
    "## Hyperparameter tunning - pre-pruning with GridSeachCV\n",
    "\n",
    "We can use sciki-learn GridSeachCV to exhaustive search over specific parameters and find the best combination of hyperparameters that yield the maximm metric score (accuracy in this case). I the case of decision trees we can search for the best set of max_depth, min_samples_leaf and min_samples_split."
   ]
  },
  {
   "cell_type": "code",
   "execution_count": null,
   "id": "8f11ba32-86db-4541-833c-33b5c54326ac",
   "metadata": {},
   "outputs": [],
   "source": [
    "from sklearn.model_selection import GridSearchCV\n",
    "\n",
    "# Build and train a full sized tree with entire data\n",
    "finaltree = tree.DecisionTreeClassifier(ccp_alpha = 0, random_state=22) # 'Full sized tree' trained with entire data\n",
    "finaltree.fit(X, Y)\n",
    "# Compute ccp_alpha and Gini imputrities values for each subtree.\n",
    "path = finaltree.cost_complexity_pruning_path(X_train, Y_train)\n",
    "ccp_alphas, impurities = path.ccp_alphas, path.impurities\n",
    "\n",
    "# Define the parameter grid\n",
    "param_grid = {\n",
    "    'max_depth': [4, 5, 6 , 7],    \n",
    "    'min_samples_leaf': [2, 5, 7, 10],\n",
    "    'min_samples_split': [2, 5, 7, 10],\n",
    "    'ccp_alpha': ccp_alphas\n",
    "}\n",
    "\n",
    "# Create the decision tree classifier\n",
    "model = tree.DecisionTreeClassifier()\n",
    "\n",
    "# Perform grid search\n",
    "grid_search = GridSearchCV(estimator=model, param_grid=param_grid, cv=10)\n",
    "grid_search.fit(X, Y) # k-Fold CrossValidation in Train_data set\n",
    "\n",
    "# Get the best parameters and best score\n",
    "best_params = grid_search.best_params_\n",
    "best_score = grid_search.best_score_\n",
    "print(\"Best Parameters:\", best_params)\n",
    "print(\"Best Score:\", best_score)"
   ]
  },
  {
   "cell_type": "markdown",
   "id": "ffb39ab1-0045-4245-b4f8-bc9832dcdbbd",
   "metadata": {},
   "source": [
    "## Hyperparameter tunning - Cost-complexity pruning (weak links pruning)\n",
    "\n",
    "The cost complexity pruning method consists of tuning th parameter aplha (ccp_alpha). This parameter stablishes a subtree for which the cost complexity measure is minimum. Let us explain it slowly. When we train a decision tree with the default parameters, or sklearn.tree.DecisionTreeClassifier(criterion='gini', max_depth=None, min_samples_split=2, min_samples_leaf=1, ccp_alpha=0.0) (see [DecisionTreeClassifier](https://scikit-learn.org/stable/modules/generated/sklearn.tree.DecisionTreeClassifier.html)), the tree growths until the impurity measure reach the minimum possible value and there is no other possibility to split the nodes with a given feature to reduce the Gini impurity of the nodes. Here we can represent the impurity measure of the tree by R(T). in scikit-learn it is given by the total sample weighted impurity of the terminal noder of the tree. This is the ful sized tree, it is the best tree to fit the training data but it do not performs well with validation data (It is overfitting the training data). We need a creteria to stop the natural tree growth in a given growth step so it still fits good the train data and also the validation data. Durinf the training of the tree each growth step creates a new split in a given node to reduce the Gini impurity of the terminal nodes of the tree so It is a good strategy to prune the full sized tree following the reverse path of the growth so we recursivelly decrease tree terminal nodes impurity until we obtain a tree that dont overfits.\n",
    "\n",
    "To easyly adjust the point until which we will recurssivelly prune the tree we define a penalty function given by a constant $\\alpha$ times the number of terminal nodes |T| (penalty function =  $\\alpha$|T|). Then we define the cost complexity mearure of the tree T, $R_\\alpha(T)$ as:\n",
    "\n",
    "$$R_\\alpha(T) = R(T) + \\alpha|T|$$\n",
    "When $\\alpha$ is zero the complexity meature of the full sized tree $T_n$ and all previous states of the model during the training (the subtrees $T_i$ ) are given by the weighted impurity of the terminal nodes of the subtree and discussed above it has a minimum at the last growth state subtree ($T_n$), the full sized tree. When we set $\\alpha$ a given value the cost complexity function will have a minimum for a subtree $T_i$ in a previous growth state. That is because the penalty function increases more the cost complexity measure $R_\\alpha(T)$ for subtrees with greater number of terminal nodes. If we scan the $\\alpha$ parameter from zero to slowly increasing positive values the full sized tree $T_n$ will have progressivelly higher values of cost complexity $R_\\alpha(T_n)$ until a given point that the subtree $T_{n-1}$ will corresponds to the minumum cost complexity measure, $R_\\alpha(T_{n-1}) < R_\\alpha(T_n)$, this ccp_alpha value corresponds to the post-prune unti the subtree $T_{n-1}$. Let us visualize it in the below plot where we represent the impurity values R(T) as an exponential decay function that decreases with the tree growth step. Adding a linear penalty function results in a cost complexity function $R_\\alpha(T)$ that has a minimum at the growth step i where $R(T_i) = \\alpha T_i$.\n",
    "\n",
    "References:\n",
    "1. Scikit-learn, \"Cost complexity pruning\", [scikit-learn - cpp_alpha pruning](https://scikit-learn.org/stable/auto_examples/tree/plot_cost_complexity_pruning.html)\n",
    "2. See this video very informative [SatQuest - How to prune reression trees](https://www.youtube.com/watch?v=D0efHEJsfHo&list=PLblh5JKOoLUICTaGLRoHQDuF_7q2GfuJF&index=44).\n",
    "3. L. Breiman, J. Friedman, R. Olshen, and C. Stone. Classification and Regression Trees. Wadsworth, Belmont, CA, 1984.\n",
    "984.)"
   ]
  },
  {
   "cell_type": "code",
   "execution_count": null,
   "id": "aa39e7ec-73ed-437b-b072-fd74856709d3",
   "metadata": {},
   "outputs": [],
   "source": [
    "alpha = 0.002  # arbitrary choosen value for alpha\n",
    "growth_step = np.linspace(0, 100, 25)  # Array of growth steps\n",
    "impurity_values = 0.5 * np.exp(-growth_step / 20) + 0.02  # Example impurity values (exponential decay)\n",
    "n_terminal_nodes = growth_step * 2 - growth_step * 1.2 # suppouse numbe rof terminal nodes increase in this way.\n",
    "penalty_values = alpha * n_terminal_nodes\n",
    "ccp_fn = impurity_values + penalty_values\n",
    "# Plot the traces\n",
    "plt.plot(growth_step, impurity_values, marker='o', label='Impurity Measures (R(T))')\n",
    "plt.plot(growth_step, penalty_values, marker='o', label='Penalty Function')\n",
    "plt.plot(growth_step, ccp_fn, marker='o', label='Cost Complexity measures')\n",
    "plt.xlabel('growth Step')\n",
    "plt.ylabel('impurity')\n",
    "plt.title('Cost Complexity Pruning')\n",
    "plt.legend()\n",
    "plt.grid(True)\n",
    "plt.show()"
   ]
  },
  {
   "cell_type": "code",
   "execution_count": null,
   "id": "3883730f-6b54-4250-876b-7cce9bcacc2c",
   "metadata": {},
   "outputs": [],
   "source": []
  },
  {
   "cell_type": "markdown",
   "id": "725c1d14-371d-4a32-baac-83293a683a47",
   "metadata": {},
   "source": [
    "## Cost complexity pruning steps (weak link pruning)\n",
    "\n",
    "To perform cost complexity prunig and determin the optimal ccp_alpha value procees as follows:\n",
    "\n",
    "1. Build a full sized tree (ccp_alpha = 0) and train it with the entire available dataset. then use the method scikit-learn cost_complexity_pruning_path to compute the pruning path during minimal cost-complexity pruning. It returns the lists for effective alphas and the corresponding total leaf impurities of the full sized tree. The values in the lists corresponds to each subtree after sucessive pruning steps.\n",
    "2.  For each alpha obtained in the step 2 we will build a classifier and append to a list. The performance of the classifiers will be compared in a Cross Validation process to determine the tree and the corresponding ccp_alpha that is appropriate for the actual problem and available data (employed features, training data) not overfiting nor underfiting the training data.\n",
    "3.  Plot the cross-validation train_scores and the validation_scores for each ccp_apha values. When the ccp_alpha decreases from the maximum value (corresponding to a tree with only one node) the train and validation scores tends to increse until a given point where the validation score reach a maximum and stop increasing while the training score keep increasing as a result of the model overffitig the training data. It is intuitive the choice of the optimal ccp_alpha in a point where the tree is not overfitting not underfiting the training data while yieldng a good performance on validation and test data.\n",
    "4.  Finaly built a final tree and train it using the entire dataset and the choosen optimal ccp_alpha value.\n"
   ]
  },
  {
   "cell_type": "code",
   "execution_count": null,
   "id": "9b13188e-0e41-49ba-8ba3-5498ea71c9a9",
   "metadata": {},
   "outputs": [],
   "source": [
    "# Build and train a full sized tree with entire data\n",
    "finaltree = tree.DecisionTreeClassifier(ccp_alpha = 0, random_state=22) # 'Full sized tree' trained with entire data\n",
    "finaltree.fit(X, Y)\n",
    "# Compute ccp_alpha and Gini imputrities values for each subtree.\n",
    "path = finaltree.cost_complexity_pruning_path(X_train, Y_train)\n",
    "ccp_alphas, impurities = path.ccp_alphas, path.impurities\n",
    "\n",
    "# Create a DataFrame to store the cost complexity pruning values.\n",
    "ccp_df = pd.DataFrame({'ccp_alphas': ccp_alphas, 'impurities': impurities})\n",
    "\n",
    "cv_results = {}\n",
    "# Cross-Validation for the set of subtrees and export results to a table.\n",
    "from sklearn.model_selection import KFold\n",
    "KF = KFold(n_splits=10, shuffle=False, random_state=None)\n",
    "for i, (train, val) in enumerate(KF.split(X, Y)):\n",
    "    X_train = X.iloc[train]\n",
    "    Y_train = Y.iloc[train]\n",
    "    X_val = X.iloc[val]\n",
    "    Y_val = Y.iloc[val]\n",
    "    # build a classifier for each alpha and append to a list.\n",
    "    clfs = []\n",
    "    for ccp_alpha in ccp_alphas:\n",
    "        clf = tree.DecisionTreeClassifier(random_state=42, ccp_alpha=ccp_alpha)\n",
    "        clf.fit(X_train, Y_train)\n",
    "        clfs.append(clf)\n",
    "\n",
    "    train_scores = [accuracy_score(Y_train, clf.predict(X_train) ) for clf in clfs]\n",
    "    val_scores = [accuracy_score(Y_val, clf.predict(X_val) ) for clf in clfs ]\n",
    "\n",
    "    cv_results[f'split{i}_train_scores'] = train_scores\n",
    "    cv_results[f'split{i}_val_scores'] = val_scores\n",
    "\n",
    "\n",
    "# contatenate the cross-validation results to the ccp_df\n",
    "ccp_df = pd.concat([ccp_df, pd.DataFrame(cv_results)], axis=1)\n",
    "\n",
    "# calculate the cross-validation mean for train_scores and val_scores\n",
    "train_score_cols = [f'split{i}_train_scores' for i in range(0, 10)]\n",
    "val_score_cols = [f'split{i}_val_scores' for i in range(0, 10)]\n",
    "ccp_df['train_scores'] = ccp_df[train_score_cols].mean(axis=1)\n",
    "ccp_df['val_scores'] = ccp_df[val_score_cols].mean(axis=1)"
   ]
  },
  {
   "cell_type": "code",
   "execution_count": null,
   "id": "a0b8eee8-2844-4880-9ddc-1135fb21420b",
   "metadata": {},
   "outputs": [],
   "source": [
    "ccp_df.head(3)"
   ]
  },
  {
   "cell_type": "code",
   "execution_count": null,
   "id": "ad37f2b3-3023-4f99-9ce0-c3fc9dec25fe",
   "metadata": {},
   "outputs": [],
   "source": [
    "# Create scatter plot for train and validation scores\n",
    "fig = go.Figure()\n",
    "\n",
    "fig.add_trace(go.Scatter(x=ccp_df['ccp_alphas'], y=ccp_df['train_scores'], mode='lines+markers', name='train_score'))\n",
    "\n",
    "# Create scatter plot for training scores\n",
    "fig.add_trace(go.Scatter(x=ccp_df['ccp_alphas'], y=ccp_df['val_scores'], mode='lines+markers', name='Validation_score'))\n",
    "\n",
    "\n",
    "# Set plot layout\n",
    "fig.update_layout(title='Scores vs ccp_Alphas',\n",
    "                  height=500,\n",
    "                  width=800,\n",
    "                  xaxis_title='Alpha',\n",
    "                  yaxis_title='Scores')\n",
    "\n",
    "fig.show()"
   ]
  },
  {
   "cell_type": "code",
   "execution_count": null,
   "id": "aa75f41e-5201-48b9-b92d-885072a6a086",
   "metadata": {},
   "outputs": [],
   "source": [
    "## the Fina optimied decision tree"
   ]
  },
  {
   "cell_type": "code",
   "execution_count": null,
   "id": "5a946ee1-2304-42fe-a668-b390a6bc4bc0",
   "metadata": {},
   "outputs": [],
   "source": [
    "# Load the data for training and validation\n",
    "features = ['Pclass','Sex_bool', 'SibSp', 'Parch',\n",
    "       'Companions', 'FamilySize', 'Fare_range',\n",
    "       'Cabin_count', 'Age_group', 'Title_noble']\n",
    "\n",
    "X = Train_data[features] # training dataset\n",
    "Y = Train_data['Survived']\n",
    "\n",
    "#  Build a decision Tree, train and validate the model.\n",
    "from sklearn import tree\n",
    "# I choosed the optimal ccp_alpha  = 0.00306\n",
    "finaltree = tree.DecisionTreeClassifier(criterion='gini', ccp_alpha = 0.00306)\n",
    "finaltree.fit(X, Y)\n",
    "train_acc = finaltree.score(X_train, Y_train)\n",
    "print(\"train_Accuracy:\", train_acc)"
   ]
  },
  {
   "cell_type": "markdown",
   "id": "00f6b222-2e5d-47d5-9d91-583037cfc53d",
   "metadata": {},
   "source": [
    "plot a visualization of the decision tree"
   ]
  },
  {
   "cell_type": "code",
   "execution_count": null,
   "id": "a265207b-31eb-48e3-a1b3-8888a628485e",
   "metadata": {},
   "outputs": [],
   "source": [
    "# Generate the decision tree plot\n",
    "fig, ax = plt.subplots(figsize=(12, 8))\n",
    "tree_plot = tree.plot_tree(finaltree, feature_names=features, class_names=['Not Survived', 'Survived'], filled=True, rounded=True, ax=ax)\n",
    "# plt.show() # Comment it to make savefig() works.\n",
    "# Save the figure with higher resolution\n",
    "plt.savefig('titanic-FinalTree.png', dpi=300)"
   ]
  },
  {
   "cell_type": "markdown",
   "id": "40320d77-4f16-417c-8678-6361e1a2dd04",
   "metadata": {},
   "source": [
    "plot the confusion matrix"
   ]
  },
  {
   "cell_type": "code",
   "execution_count": null,
   "id": "669e58cb-ba75-4738-b936-f217becc89ad",
   "metadata": {},
   "outputs": [],
   "source": [
    "from sklearn.metrics import ConfusionMatrixDisplay\n",
    "labels = ['not survived', 'survived']\n",
    "# labels = tree_age.classes_\n",
    "ConfusionMatrixDisplay.from_predictions(Y_train, finaltree.predict(X_train), display_labels = labels, cmap = plt.cm.Blues)\n",
    "plt.show()"
   ]
  },
  {
   "cell_type": "markdown",
   "id": "0c82e891-6a9c-47d5-93e1-56b790bf09b9",
   "metadata": {},
   "source": [
    "We end up with decision tree that can be used to decides who lives who dies in the titanic. The accuracy of the optimied tree is aproximatelly 83% for the training data. Analyzing the confusion matrix we can see the our final tree killed 42 passangers of 212 tha really survived and predited that 61 survived among the 411 that unfortunatelly not survived to the tragedy. That is the performance of our optimized decision tree. "
   ]
  }
 ],
 "metadata": {
  "kernelspec": {
   "display_name": "Python 3 (ipykernel)",
   "language": "python",
   "name": "python3"
  },
  "language_info": {
   "codemirror_mode": {
    "name": "ipython",
    "version": 3
   },
   "file_extension": ".py",
   "mimetype": "text/x-python",
   "name": "python",
   "nbconvert_exporter": "python",
   "pygments_lexer": "ipython3",
   "version": "3.9.16"
  }
 },
 "nbformat": 4,
 "nbformat_minor": 5
}
